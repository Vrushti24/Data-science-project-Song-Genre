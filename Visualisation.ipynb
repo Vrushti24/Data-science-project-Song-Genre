{
 "cells": [
  {
   "cell_type": "markdown",
   "metadata": {},
   "source": [
    "# **STATISTICS FOR DATA SCIENCE ASSIGNMENT**"
   ]
  },
  {
   "cell_type": "markdown",
   "metadata": {},
   "source": [
    "#### **Objective**: _Cleaning, analysing, visualising, forecasting and presentation of data_"
   ]
  },
  {
   "cell_type": "code",
   "execution_count": 1,
   "metadata": {},
   "outputs": [],
   "source": [
    "# Importing packages\n",
    "import pandas as pd\n",
    "import numpy as np\n",
    "import matplotlib.pyplot as plt\n",
    "import seaborn as sns"
   ]
  },
  {
   "cell_type": "code",
   "execution_count": 77,
   "metadata": {},
   "outputs": [
    {
     "data": {
      "text/html": [
       "<div>\n",
       "<style scoped>\n",
       "    .dataframe tbody tr th:only-of-type {\n",
       "        vertical-align: middle;\n",
       "    }\n",
       "\n",
       "    .dataframe tbody tr th {\n",
       "        vertical-align: top;\n",
       "    }\n",
       "\n",
       "    .dataframe thead th {\n",
       "        text-align: right;\n",
       "    }\n",
       "</style>\n",
       "<table border=\"1\" class=\"dataframe\">\n",
       "  <thead>\n",
       "    <tr style=\"text-align: right;\">\n",
       "      <th></th>\n",
       "      <th>artists</th>\n",
       "      <th>acousticness</th>\n",
       "      <th>danceability</th>\n",
       "      <th>duration_ms</th>\n",
       "      <th>energy</th>\n",
       "      <th>instrumentalness</th>\n",
       "      <th>liveness</th>\n",
       "      <th>loudness</th>\n",
       "      <th>speechiness</th>\n",
       "      <th>tempo</th>\n",
       "      <th>valence</th>\n",
       "      <th>popularity</th>\n",
       "      <th>key</th>\n",
       "      <th>mode</th>\n",
       "      <th>count</th>\n",
       "      <th>genres</th>\n",
       "    </tr>\n",
       "  </thead>\n",
       "  <tbody>\n",
       "    <tr>\n",
       "      <th>0</th>\n",
       "      <td>\"Cats\" 1981 Original London Cast</td>\n",
       "      <td>0.575083</td>\n",
       "      <td>0.442750</td>\n",
       "      <td>247260.00000</td>\n",
       "      <td>0.386336</td>\n",
       "      <td>0.022717</td>\n",
       "      <td>0.287708</td>\n",
       "      <td>-14.205417</td>\n",
       "      <td>0.180675</td>\n",
       "      <td>115.983500</td>\n",
       "      <td>0.334433</td>\n",
       "      <td>38.000000</td>\n",
       "      <td>5</td>\n",
       "      <td>1</td>\n",
       "      <td>12</td>\n",
       "      <td>['show tunes']</td>\n",
       "    </tr>\n",
       "    <tr>\n",
       "      <th>1</th>\n",
       "      <td>\"Weird Al\" Yankovic</td>\n",
       "      <td>0.176934</td>\n",
       "      <td>0.664788</td>\n",
       "      <td>218165.25760</td>\n",
       "      <td>0.685136</td>\n",
       "      <td>0.000046</td>\n",
       "      <td>0.162139</td>\n",
       "      <td>-9.877909</td>\n",
       "      <td>0.082392</td>\n",
       "      <td>132.495091</td>\n",
       "      <td>0.754409</td>\n",
       "      <td>33.681818</td>\n",
       "      <td>9</td>\n",
       "      <td>1</td>\n",
       "      <td>132</td>\n",
       "      <td>['antiviral pop', 'comedy rock', 'comic', 'par...</td>\n",
       "    </tr>\n",
       "    <tr>\n",
       "      <th>2</th>\n",
       "      <td>$IMEON</td>\n",
       "      <td>0.242300</td>\n",
       "      <td>0.806667</td>\n",
       "      <td>66307.33333</td>\n",
       "      <td>0.469000</td>\n",
       "      <td>0.000001</td>\n",
       "      <td>0.204333</td>\n",
       "      <td>-12.168000</td>\n",
       "      <td>0.482667</td>\n",
       "      <td>106.020000</td>\n",
       "      <td>0.592000</td>\n",
       "      <td>62.666667</td>\n",
       "      <td>6</td>\n",
       "      <td>0</td>\n",
       "      <td>6</td>\n",
       "      <td>[]</td>\n",
       "    </tr>\n",
       "    <tr>\n",
       "      <th>3</th>\n",
       "      <td>$NOT</td>\n",
       "      <td>0.547000</td>\n",
       "      <td>0.750125</td>\n",
       "      <td>152929.50000</td>\n",
       "      <td>0.519750</td>\n",
       "      <td>0.043137</td>\n",
       "      <td>0.213975</td>\n",
       "      <td>-8.878500</td>\n",
       "      <td>0.276725</td>\n",
       "      <td>114.229125</td>\n",
       "      <td>0.319500</td>\n",
       "      <td>64.625000</td>\n",
       "      <td>6</td>\n",
       "      <td>1</td>\n",
       "      <td>8</td>\n",
       "      <td>['east coast hip hop', 'gangster rap', 'hardco...</td>\n",
       "    </tr>\n",
       "    <tr>\n",
       "      <th>4</th>\n",
       "      <td>$pyda</td>\n",
       "      <td>0.000122</td>\n",
       "      <td>0.514000</td>\n",
       "      <td>331240.00000</td>\n",
       "      <td>0.899000</td>\n",
       "      <td>0.079300</td>\n",
       "      <td>0.367000</td>\n",
       "      <td>-5.115000</td>\n",
       "      <td>0.060200</td>\n",
       "      <td>174.028000</td>\n",
       "      <td>0.266000</td>\n",
       "      <td>58.000000</td>\n",
       "      <td>7</td>\n",
       "      <td>1</td>\n",
       "      <td>1</td>\n",
       "      <td>[]</td>\n",
       "    </tr>\n",
       "  </tbody>\n",
       "</table>\n",
       "</div>"
      ],
      "text/plain": [
       "                            artists  acousticness  danceability   duration_ms  \\\n",
       "0  \"Cats\" 1981 Original London Cast      0.575083      0.442750  247260.00000   \n",
       "1               \"Weird Al\" Yankovic      0.176934      0.664788  218165.25760   \n",
       "2                            $IMEON      0.242300      0.806667   66307.33333   \n",
       "3                              $NOT      0.547000      0.750125  152929.50000   \n",
       "4                             $pyda      0.000122      0.514000  331240.00000   \n",
       "\n",
       "     energy  instrumentalness  liveness   loudness  speechiness       tempo  \\\n",
       "0  0.386336          0.022717  0.287708 -14.205417     0.180675  115.983500   \n",
       "1  0.685136          0.000046  0.162139  -9.877909     0.082392  132.495091   \n",
       "2  0.469000          0.000001  0.204333 -12.168000     0.482667  106.020000   \n",
       "3  0.519750          0.043137  0.213975  -8.878500     0.276725  114.229125   \n",
       "4  0.899000          0.079300  0.367000  -5.115000     0.060200  174.028000   \n",
       "\n",
       "    valence  popularity  key  mode  count  \\\n",
       "0  0.334433   38.000000    5     1     12   \n",
       "1  0.754409   33.681818    9     1    132   \n",
       "2  0.592000   62.666667    6     0      6   \n",
       "3  0.319500   64.625000    6     1      8   \n",
       "4  0.266000   58.000000    7     1      1   \n",
       "\n",
       "                                              genres  \n",
       "0                                     ['show tunes']  \n",
       "1  ['antiviral pop', 'comedy rock', 'comic', 'par...  \n",
       "2                                                 []  \n",
       "3  ['east coast hip hop', 'gangster rap', 'hardco...  \n",
       "4                                                 []  "
      ]
     },
     "execution_count": 77,
     "metadata": {},
     "output_type": "execute_result"
    }
   ],
   "source": [
    "data = pd.read_csv('./data_w_genres.csv')\n",
    "\n",
    "data.head()"
   ]
  },
  {
   "cell_type": "code",
   "execution_count": 78,
   "metadata": {},
   "outputs": [
    {
     "data": {
      "text/plain": [
       "22727"
      ]
     },
     "execution_count": 78,
     "metadata": {},
     "output_type": "execute_result"
    }
   ],
   "source": [
    "len(data)\n",
    "# Approx 22k songs data"
   ]
  },
  {
   "cell_type": "markdown",
   "metadata": {},
   "source": [
    "\n",
    "## Popularity Trends"
   ]
  },
  {
   "cell_type": "code",
   "execution_count": 79,
   "metadata": {},
   "outputs": [
    {
     "data": {
      "image/png": "[encoded data removed]",
      "text/plain": [
       "<Figure size 432x288 with 1 Axes>"
      ]
     },
     "metadata": {
      "needs_background": "light"
     },
     "output_type": "display_data"
    }
   ],
   "source": [
    "y = data['popularity']\n",
    "freq, bin_edge, plot = plt.hist(y, bins = 100)"
   ]
  },
  {
   "cell_type": "markdown",
   "metadata": {},
   "source": [
    "#### We can immediately see that popularity seems to be almost normally distributed but there is a spike at 0 which might be due to data not being available. Hence these rows should be dropped when analysing "
   ]
  },
  {
   "cell_type": "code",
   "execution_count": 80,
   "metadata": {},
   "outputs": [
    {
     "data": {
      "text/plain": [
       "2387"
      ]
     },
     "execution_count": 80,
     "metadata": {},
     "output_type": "execute_result"
    }
   ],
   "source": [
    "len(data[data['popularity']==0])"
   ]
  },
  {
   "cell_type": "code",
   "execution_count": 81,
   "metadata": {},
   "outputs": [],
   "source": [
    "data.drop(data[data['popularity']==0].index, inplace=True)"
   ]
  },
  {
   "cell_type": "code",
   "execution_count": 82,
   "metadata": {},
   "outputs": [
    {
     "data": {
      "image/png": "[encoded data removed]",
      "text/plain": [
       "<Figure size 432x288 with 1 Axes>"
      ]
     },
     "metadata": {
      "needs_background": "light"
     },
     "output_type": "display_data"
    }
   ],
   "source": [
    "y = data['popularity']\n",
    "freq, bin_edge, plot = plt.hist(y, bins = 50)"
   ]
  },
  {
   "cell_type": "code",
   "execution_count": 83,
   "metadata": {},
   "outputs": [
    {
     "data": {
      "image/png": "[encoded data removed]",
      "text/plain": [
       "<Figure size 1080x576 with 12 Axes>"
      ]
     },
     "metadata": {
      "needs_background": "light"
     },
     "output_type": "display_data"
    }
   ],
   "source": [
    "# similarly plotting the distribution of all continuous variables\n",
    "fig, axs = plt.subplots(4, 3, figsize=(15, 8))\n",
    "fig.tight_layout(pad=3.0)\n",
    "axs = axs.reshape(12,)\n",
    "i = 0\n",
    "colors = ['red', 'green', 'orange', 'blue']\n",
    "for feature in data.columns:\n",
    "    subplot = axs[i]\n",
    "    if(data[feature].dtype=='float64'):\n",
    "        subplot.set(xlabel=feature)\n",
    "        f, edge, plot = subplot.hist(data[feature], 50, color=colors[i%4])\n",
    "        i = i+1;"
   ]
  },
  {
   "cell_type": "markdown",
   "metadata": {},
   "source": [
    "#### We can observe that danceability, liveness, loudness, tempo, valence and popularity follow at least some type of distribution\n",
    "#### There are potential outliers in duration, instrumentalness, tempo and speechiness"
   ]
  },
  {
   "cell_type": "code",
   "execution_count": 84,
   "metadata": {},
   "outputs": [
    {
     "data": {
      "text/html": [
       "<div>\n",
       "<style scoped>\n",
       "    .dataframe tbody tr th:only-of-type {\n",
       "        vertical-align: middle;\n",
       "    }\n",
       "\n",
       "    .dataframe tbody tr th {\n",
       "        vertical-align: top;\n",
       "    }\n",
       "\n",
       "    .dataframe thead th {\n",
       "        text-align: right;\n",
       "    }\n",
       "</style>\n",
       "<table border=\"1\" class=\"dataframe\">\n",
       "  <thead>\n",
       "    <tr style=\"text-align: right;\">\n",
       "      <th></th>\n",
       "      <th>acousticness</th>\n",
       "      <th>danceability</th>\n",
       "      <th>duration_ms</th>\n",
       "      <th>energy</th>\n",
       "      <th>instrumentalness</th>\n",
       "      <th>liveness</th>\n",
       "      <th>loudness</th>\n",
       "      <th>speechiness</th>\n",
       "      <th>tempo</th>\n",
       "      <th>valence</th>\n",
       "      <th>popularity</th>\n",
       "      <th>key</th>\n",
       "      <th>mode</th>\n",
       "      <th>count</th>\n",
       "    </tr>\n",
       "  </thead>\n",
       "  <tbody>\n",
       "    <tr>\n",
       "      <th>count</th>\n",
       "      <td>20340.000000</td>\n",
       "      <td>20340.000000</td>\n",
       "      <td>2.034000e+04</td>\n",
       "      <td>20340.000000</td>\n",
       "      <td>20340.000000</td>\n",
       "      <td>20340.000000</td>\n",
       "      <td>20340.000000</td>\n",
       "      <td>20340.000000</td>\n",
       "      <td>20340.000000</td>\n",
       "      <td>20340.000000</td>\n",
       "      <td>20340.000000</td>\n",
       "      <td>20340.000000</td>\n",
       "      <td>20340.000000</td>\n",
       "      <td>20340.000000</td>\n",
       "    </tr>\n",
       "    <tr>\n",
       "      <th>mean</th>\n",
       "      <td>0.414848</td>\n",
       "      <td>0.560873</td>\n",
       "      <td>2.402499e+05</td>\n",
       "      <td>0.540173</td>\n",
       "      <td>0.144506</td>\n",
       "      <td>0.196689</td>\n",
       "      <td>-10.504063</td>\n",
       "      <td>0.091382</td>\n",
       "      <td>117.213290</td>\n",
       "      <td>0.520880</td>\n",
       "      <td>41.160601</td>\n",
       "      <td>5.417650</td>\n",
       "      <td>0.761799</td>\n",
       "      <td>15.853589</td>\n",
       "    </tr>\n",
       "    <tr>\n",
       "      <th>std</th>\n",
       "      <td>0.343911</td>\n",
       "      <td>0.175195</td>\n",
       "      <td>1.135769e+05</td>\n",
       "      <td>0.247024</td>\n",
       "      <td>0.276150</td>\n",
       "      <td>0.136134</td>\n",
       "      <td>5.741161</td>\n",
       "      <td>0.101664</td>\n",
       "      <td>24.587394</td>\n",
       "      <td>0.238933</td>\n",
       "      <td>17.804319</td>\n",
       "      <td>3.510466</td>\n",
       "      <td>0.425993</td>\n",
       "      <td>55.003083</td>\n",
       "    </tr>\n",
       "    <tr>\n",
       "      <th>min</th>\n",
       "      <td>0.000000</td>\n",
       "      <td>0.000000</td>\n",
       "      <td>2.786700e+04</td>\n",
       "      <td>0.000000</td>\n",
       "      <td>0.000000</td>\n",
       "      <td>0.000000</td>\n",
       "      <td>-60.000000</td>\n",
       "      <td>0.000000</td>\n",
       "      <td>0.000000</td>\n",
       "      <td>0.000000</td>\n",
       "      <td>0.003802</td>\n",
       "      <td>0.000000</td>\n",
       "      <td>0.000000</td>\n",
       "      <td>1.000000</td>\n",
       "    </tr>\n",
       "    <tr>\n",
       "      <th>25%</th>\n",
       "      <td>0.090570</td>\n",
       "      <td>0.453000</td>\n",
       "      <td>1.867222e+05</td>\n",
       "      <td>0.357991</td>\n",
       "      <td>0.000002</td>\n",
       "      <td>0.109692</td>\n",
       "      <td>-13.045478</td>\n",
       "      <td>0.038800</td>\n",
       "      <td>101.329625</td>\n",
       "      <td>0.347464</td>\n",
       "      <td>32.000000</td>\n",
       "      <td>2.000000</td>\n",
       "      <td>1.000000</td>\n",
       "      <td>2.000000</td>\n",
       "    </tr>\n",
       "    <tr>\n",
       "      <th>50%</th>\n",
       "      <td>0.329183</td>\n",
       "      <td>0.574000</td>\n",
       "      <td>2.245380e+05</td>\n",
       "      <td>0.568000</td>\n",
       "      <td>0.000767</td>\n",
       "      <td>0.158082</td>\n",
       "      <td>-9.197000</td>\n",
       "      <td>0.052084</td>\n",
       "      <td>116.719390</td>\n",
       "      <td>0.532800</td>\n",
       "      <td>43.250000</td>\n",
       "      <td>6.000000</td>\n",
       "      <td>1.000000</td>\n",
       "      <td>4.000000</td>\n",
       "    </tr>\n",
       "    <tr>\n",
       "      <th>75%</th>\n",
       "      <td>0.747082</td>\n",
       "      <td>0.687000</td>\n",
       "      <td>2.697475e+05</td>\n",
       "      <td>0.731513</td>\n",
       "      <td>0.111065</td>\n",
       "      <td>0.236535</td>\n",
       "      <td>-6.400950</td>\n",
       "      <td>0.096245</td>\n",
       "      <td>130.550000</td>\n",
       "      <td>0.704000</td>\n",
       "      <td>53.666667</td>\n",
       "      <td>8.000000</td>\n",
       "      <td>1.000000</td>\n",
       "      <td>10.000000</td>\n",
       "    </tr>\n",
       "    <tr>\n",
       "      <th>max</th>\n",
       "      <td>0.996000</td>\n",
       "      <td>0.986000</td>\n",
       "      <td>5.403500e+06</td>\n",
       "      <td>1.000000</td>\n",
       "      <td>1.000000</td>\n",
       "      <td>0.991000</td>\n",
       "      <td>1.342000</td>\n",
       "      <td>0.961651</td>\n",
       "      <td>217.743000</td>\n",
       "      <td>0.991000</td>\n",
       "      <td>95.000000</td>\n",
       "      <td>11.000000</td>\n",
       "      <td>1.000000</td>\n",
       "      <td>3172.000000</td>\n",
       "    </tr>\n",
       "  </tbody>\n",
       "</table>\n",
       "</div>"
      ],
      "text/plain": [
       "       acousticness  danceability   duration_ms        energy  \\\n",
       "count  20340.000000  20340.000000  2.034000e+04  20340.000000   \n",
       "mean       0.414848      0.560873  2.402499e+05      0.540173   \n",
       "std        0.343911      0.175195  1.135769e+05      0.247024   \n",
       "min        0.000000      0.000000  2.786700e+04      0.000000   \n",
       "25%        0.090570      0.453000  1.867222e+05      0.357991   \n",
       "50%        0.329183      0.574000  2.245380e+05      0.568000   \n",
       "75%        0.747082      0.687000  2.697475e+05      0.731513   \n",
       "max        0.996000      0.986000  5.403500e+06      1.000000   \n",
       "\n",
       "       instrumentalness      liveness      loudness   speechiness  \\\n",
       "count      20340.000000  20340.000000  20340.000000  20340.000000   \n",
       "mean           0.144506      0.196689    -10.504063      0.091382   \n",
       "std            0.276150      0.136134      5.741161      0.101664   \n",
       "min            0.000000      0.000000    -60.000000      0.000000   \n",
       "25%            0.000002      0.109692    -13.045478      0.038800   \n",
       "50%            0.000767      0.158082     -9.197000      0.052084   \n",
       "75%            0.111065      0.236535     -6.400950      0.096245   \n",
       "max            1.000000      0.991000      1.342000      0.961651   \n",
       "\n",
       "              tempo       valence    popularity           key          mode  \\\n",
       "count  20340.000000  20340.000000  20340.000000  20340.000000  20340.000000   \n",
       "mean     117.213290      0.520880     41.160601      5.417650      0.761799   \n",
       "std       24.587394      0.238933     17.804319      3.510466      0.425993   \n",
       "min        0.000000      0.000000      0.003802      0.000000      0.000000   \n",
       "25%      101.329625      0.347464     32.000000      2.000000      1.000000   \n",
       "50%      116.719390      0.532800     43.250000      6.000000      1.000000   \n",
       "75%      130.550000      0.704000     53.666667      8.000000      1.000000   \n",
       "max      217.743000      0.991000     95.000000     11.000000      1.000000   \n",
       "\n",
       "              count  \n",
       "count  20340.000000  \n",
       "mean      15.853589  \n",
       "std       55.003083  \n",
       "min        1.000000  \n",
       "25%        2.000000  \n",
       "50%        4.000000  \n",
       "75%       10.000000  \n",
       "max     3172.000000  "
      ]
     },
     "execution_count": 84,
     "metadata": {},
     "output_type": "execute_result"
    }
   ],
   "source": [
    "data.describe()"
   ]
  },
  {
   "cell_type": "markdown",
   "metadata": {},
   "source": [
    "Instrumentalness is heavily skewed towards 0 and provides no valuable data.\n",
    "Duration of songs is between 2 and 3 x 10^5 seconds which is about 3 to 5 minutes. Clearly some outliers are present as song durations of 50 minutes is not a likely value. Hence we choose to drop these outliers.\n",
    "<br>\n",
    "We have picked 10 minutes to be the threshold value for songs we will be considering in our project"
   ]
  },
  {
   "cell_type": "code",
   "execution_count": 85,
   "metadata": {},
   "outputs": [
    {
     "data": {
      "image/png": "[encoded data removed]",
      "text/plain": [
       "<Figure size 432x288 with 1 Axes>"
      ]
     },
     "metadata": {
      "needs_background": "light"
     },
     "output_type": "display_data"
    }
   ],
   "source": [
    "DUR_MAX = 6e+05\n",
    "outliers = data[data['duration_ms'] > DUR_MAX].index\n",
    "data.drop(outliers, inplace=True)\n",
    "f, edge, plot = plt.hist(data['duration_ms'],50)"
   ]
  },
  {
   "cell_type": "markdown",
   "metadata": {},
   "source": [
    "#### This shows a more normally distributed, slightly skewed data we can use for further analysis"
   ]
  },
  {
   "cell_type": "code",
   "execution_count": 86,
   "metadata": {},
   "outputs": [],
   "source": [
    "# Dropping the instrumentalness column\n",
    "data.drop('instrumentalness', axis=1, inplace=True)"
   ]
  },
  {
   "cell_type": "markdown",
   "metadata": {},
   "source": [
    "#### Using Box Plots to detect the outliers in Speechiness"
   ]
  },
  {
   "cell_type": "code",
   "execution_count": 87,
   "metadata": {},
   "outputs": [
    {
     "data": {
      "text/plain": [
       "count    20161.000000\n",
       "mean         0.090885\n",
       "std          0.099322\n",
       "min          0.000000\n",
       "25%          0.038800\n",
       "50%          0.052106\n",
       "75%          0.096315\n",
       "max          0.960000\n",
       "Name: speechiness, dtype: float64"
      ]
     },
     "execution_count": 87,
     "metadata": {},
     "output_type": "execute_result"
    }
   ],
   "source": [
    "data['speechiness'].describe()"
   ]
  },
  {
   "cell_type": "code",
   "execution_count": 88,
   "metadata": {},
   "outputs": [
    {
     "data": {
      "text/plain": [
       "{'whiskers': [<matplotlib.lines.Line2D at 0x7f6a170b5f90>,\n",
       "  <matplotlib.lines.Line2D at 0x7f6a17753dd0>],\n",
       " 'caps': [<matplotlib.lines.Line2D at 0x7f6a17753250>,\n",
       "  <matplotlib.lines.Line2D at 0x7f6a176c4750>],\n",
       " 'boxes': [<matplotlib.lines.Line2D at 0x7f6a170b5790>],\n",
       " 'medians': [<matplotlib.lines.Line2D at 0x7f6a17953e90>],\n",
       " 'fliers': [<matplotlib.lines.Line2D at 0x7f6a17953890>],\n",
       " 'means': []}"
      ]
     },
     "execution_count": 88,
     "metadata": {},
     "output_type": "execute_result"
    },
    {
     "data": {
      "image/png": "[encoded data removed]",
      "text/plain": [
       "<Figure size 432x288 with 1 Axes>"
      ]
     },
     "metadata": {
      "needs_background": "light"
     },
     "output_type": "display_data"
    }
   ],
   "source": [
    "green_diamond = dict(markerfacecolor='g', marker='D')\n",
    "fig3, ax3 = plt.subplots()\n",
    "ax3.set_title('Outliers in speechiness')\n",
    "ax3.boxplot(data['speechiness'], flierprops=green_diamond, vert=False)"
   ]
  },
  {
   "cell_type": "code",
   "execution_count": 89,
   "metadata": {},
   "outputs": [
    {
     "data": {
      "text/plain": [
       "3024"
      ]
     },
     "execution_count": 89,
     "metadata": {},
     "output_type": "execute_result"
    }
   ],
   "source": [
    "out_thresh = data['speechiness'].quantile(q=0.75) + 1.51 * data['speechiness'].quantile(q=0.25)\n",
    "data[data['speechiness'] > out_thresh]['speechiness'].count()"
   ]
  },
  {
   "cell_type": "code",
   "execution_count": 90,
   "metadata": {},
   "outputs": [
    {
     "data": {
      "text/plain": [
       "0.154902545"
      ]
     },
     "execution_count": 90,
     "metadata": {},
     "output_type": "execute_result"
    }
   ],
   "source": [
    "out_thresh"
   ]
  },
  {
   "cell_type": "markdown",
   "metadata": {},
   "source": [
    "#### \"Songs\" with a speechiness higher than 0.154 are more likely to be other types of video mislabelled as music on YouTube. We will drop them"
   ]
  },
  {
   "cell_type": "code",
   "execution_count": 91,
   "metadata": {},
   "outputs": [
    {
     "data": {
      "image/png": "[encoded data removed]",
      "text/plain": [
       "<Figure size 432x288 with 1 Axes>"
      ]
     },
     "metadata": {
      "needs_background": "light"
     },
     "output_type": "display_data"
    }
   ],
   "source": [
    "data.drop(data[data['speechiness'] > out_thresh].index, inplace=True)\n",
    "f, e, plot = plt.hist(data['speechiness'], 50)"
   ]
  },
  {
   "cell_type": "markdown",
   "metadata": {},
   "source": [
    "#### Now we can take another look at the columns of our data after having dealt with outliers and unecessary columns"
   ]
  },
  {
   "cell_type": "code",
   "execution_count": 92,
   "metadata": {},
   "outputs": [
    {
     "data": {
      "image/png": "[encoded data removed]",
      "text/plain": [
       "<Figure size 1080x576 with 12 Axes>"
      ]
     },
     "metadata": {
      "needs_background": "light"
     },
     "output_type": "display_data"
    }
   ],
   "source": [
    "fig, axs = plt.subplots(4, 3, figsize=(15, 8))\n",
    "fig.tight_layout(pad=3.0)\n",
    "axs = axs.reshape(12,)\n",
    "i = 0\n",
    "colors = ['red', 'green', 'orange', 'blue']\n",
    "for feature in data.columns:\n",
    "    subplot = axs[i]\n",
    "    if(data[feature].dtype=='float64'):\n",
    "        subplot.set(xlabel=feature)\n",
    "        f, edge, plot = subplot.hist(data[feature], 50, color=colors[i%4])\n",
    "        i = i+1;"
   ]
  },
  {
   "cell_type": "code",
   "execution_count": 93,
   "metadata": {},
   "outputs": [],
   "source": [
    "# SAVING THE NEW DATASET\n",
    "data.to_csv('data_without_outliers.csv', index=False)"
   ]
  },
  {
   "cell_type": "code",
   "execution_count": 94,
   "metadata": {},
   "outputs": [
    {
     "data": {
      "text/html": [
       "<div>\n",
       "<style scoped>\n",
       "    .dataframe tbody tr th:only-of-type {\n",
       "        vertical-align: middle;\n",
       "    }\n",
       "\n",
       "    .dataframe tbody tr th {\n",
       "        vertical-align: top;\n",
       "    }\n",
       "\n",
       "    .dataframe thead th {\n",
       "        text-align: right;\n",
       "    }\n",
       "</style>\n",
       "<table border=\"1\" class=\"dataframe\">\n",
       "  <thead>\n",
       "    <tr style=\"text-align: right;\">\n",
       "      <th></th>\n",
       "      <th>acousticness</th>\n",
       "      <th>danceability</th>\n",
       "      <th>duration_ms</th>\n",
       "      <th>energy</th>\n",
       "      <th>liveness</th>\n",
       "      <th>loudness</th>\n",
       "      <th>speechiness</th>\n",
       "      <th>tempo</th>\n",
       "      <th>valence</th>\n",
       "      <th>popularity</th>\n",
       "      <th>key</th>\n",
       "      <th>mode</th>\n",
       "      <th>count</th>\n",
       "    </tr>\n",
       "  </thead>\n",
       "  <tbody>\n",
       "    <tr>\n",
       "      <th>count</th>\n",
       "      <td>17137.000000</td>\n",
       "      <td>17137.000000</td>\n",
       "      <td>17137.000000</td>\n",
       "      <td>17137.000000</td>\n",
       "      <td>17137.000000</td>\n",
       "      <td>17137.000000</td>\n",
       "      <td>17137.000000</td>\n",
       "      <td>17137.000000</td>\n",
       "      <td>17137.000000</td>\n",
       "      <td>17137.000000</td>\n",
       "      <td>17137.000000</td>\n",
       "      <td>17137.000000</td>\n",
       "      <td>17137.000000</td>\n",
       "    </tr>\n",
       "    <tr>\n",
       "      <th>mean</th>\n",
       "      <td>0.431309</td>\n",
       "      <td>0.541597</td>\n",
       "      <td>235154.663676</td>\n",
       "      <td>0.529624</td>\n",
       "      <td>0.189490</td>\n",
       "      <td>-10.748800</td>\n",
       "      <td>0.057233</td>\n",
       "      <td>117.405750</td>\n",
       "      <td>0.514681</td>\n",
       "      <td>40.556845</td>\n",
       "      <td>5.422711</td>\n",
       "      <td>0.779133</td>\n",
       "      <td>16.830425</td>\n",
       "    </tr>\n",
       "    <tr>\n",
       "      <th>std</th>\n",
       "      <td>0.345915</td>\n",
       "      <td>0.170162</td>\n",
       "      <td>76238.529939</td>\n",
       "      <td>0.251294</td>\n",
       "      <td>0.126525</td>\n",
       "      <td>5.845012</td>\n",
       "      <td>0.028623</td>\n",
       "      <td>24.015411</td>\n",
       "      <td>0.244050</td>\n",
       "      <td>17.695630</td>\n",
       "      <td>3.481308</td>\n",
       "      <td>0.414843</td>\n",
       "      <td>58.126555</td>\n",
       "    </tr>\n",
       "    <tr>\n",
       "      <th>min</th>\n",
       "      <td>0.000000</td>\n",
       "      <td>0.000000</td>\n",
       "      <td>27867.000000</td>\n",
       "      <td>0.000000</td>\n",
       "      <td>0.000000</td>\n",
       "      <td>-60.000000</td>\n",
       "      <td>0.000000</td>\n",
       "      <td>0.000000</td>\n",
       "      <td>0.000000</td>\n",
       "      <td>0.003802</td>\n",
       "      <td>0.000000</td>\n",
       "      <td>0.000000</td>\n",
       "      <td>1.000000</td>\n",
       "    </tr>\n",
       "    <tr>\n",
       "      <th>25%</th>\n",
       "      <td>0.098820</td>\n",
       "      <td>0.438000</td>\n",
       "      <td>186553.750000</td>\n",
       "      <td>0.338500</td>\n",
       "      <td>0.109000</td>\n",
       "      <td>-13.295000</td>\n",
       "      <td>0.037200</td>\n",
       "      <td>102.799855</td>\n",
       "      <td>0.333000</td>\n",
       "      <td>31.111111</td>\n",
       "      <td>2.000000</td>\n",
       "      <td>1.000000</td>\n",
       "      <td>2.000000</td>\n",
       "    </tr>\n",
       "    <tr>\n",
       "      <th>50%</th>\n",
       "      <td>0.364620</td>\n",
       "      <td>0.555000</td>\n",
       "      <td>223393.705900</td>\n",
       "      <td>0.553000</td>\n",
       "      <td>0.155450</td>\n",
       "      <td>-9.515404</td>\n",
       "      <td>0.047000</td>\n",
       "      <td>117.268500</td>\n",
       "      <td>0.522000</td>\n",
       "      <td>43.000000</td>\n",
       "      <td>6.000000</td>\n",
       "      <td>1.000000</td>\n",
       "      <td>4.000000</td>\n",
       "    </tr>\n",
       "    <tr>\n",
       "      <th>75%</th>\n",
       "      <td>0.769000</td>\n",
       "      <td>0.663000</td>\n",
       "      <td>268637.200000</td>\n",
       "      <td>0.728000</td>\n",
       "      <td>0.227150</td>\n",
       "      <td>-6.561000</td>\n",
       "      <td>0.068100</td>\n",
       "      <td>130.283471</td>\n",
       "      <td>0.705000</td>\n",
       "      <td>53.000000</td>\n",
       "      <td>8.000000</td>\n",
       "      <td>1.000000</td>\n",
       "      <td>11.000000</td>\n",
       "    </tr>\n",
       "    <tr>\n",
       "      <th>max</th>\n",
       "      <td>0.996000</td>\n",
       "      <td>0.975000</td>\n",
       "      <td>600000.000000</td>\n",
       "      <td>1.000000</td>\n",
       "      <td>0.991000</td>\n",
       "      <td>1.342000</td>\n",
       "      <td>0.154608</td>\n",
       "      <td>217.743000</td>\n",
       "      <td>0.991000</td>\n",
       "      <td>95.000000</td>\n",
       "      <td>11.000000</td>\n",
       "      <td>1.000000</td>\n",
       "      <td>3172.000000</td>\n",
       "    </tr>\n",
       "  </tbody>\n",
       "</table>\n",
       "</div>"
      ],
      "text/plain": [
       "       acousticness  danceability    duration_ms        energy      liveness  \\\n",
       "count  17137.000000  17137.000000   17137.000000  17137.000000  17137.000000   \n",
       "mean       0.431309      0.541597  235154.663676      0.529624      0.189490   \n",
       "std        0.345915      0.170162   76238.529939      0.251294      0.126525   \n",
       "min        0.000000      0.000000   27867.000000      0.000000      0.000000   \n",
       "25%        0.098820      0.438000  186553.750000      0.338500      0.109000   \n",
       "50%        0.364620      0.555000  223393.705900      0.553000      0.155450   \n",
       "75%        0.769000      0.663000  268637.200000      0.728000      0.227150   \n",
       "max        0.996000      0.975000  600000.000000      1.000000      0.991000   \n",
       "\n",
       "           loudness   speechiness         tempo       valence    popularity  \\\n",
       "count  17137.000000  17137.000000  17137.000000  17137.000000  17137.000000   \n",
       "mean     -10.748800      0.057233    117.405750      0.514681     40.556845   \n",
       "std        5.845012      0.028623     24.015411      0.244050     17.695630   \n",
       "min      -60.000000      0.000000      0.000000      0.000000      0.003802   \n",
       "25%      -13.295000      0.037200    102.799855      0.333000     31.111111   \n",
       "50%       -9.515404      0.047000    117.268500      0.522000     43.000000   \n",
       "75%       -6.561000      0.068100    130.283471      0.705000     53.000000   \n",
       "max        1.342000      0.154608    217.743000      0.991000     95.000000   \n",
       "\n",
       "                key          mode         count  \n",
       "count  17137.000000  17137.000000  17137.000000  \n",
       "mean       5.422711      0.779133     16.830425  \n",
       "std        3.481308      0.414843     58.126555  \n",
       "min        0.000000      0.000000      1.000000  \n",
       "25%        2.000000      1.000000      2.000000  \n",
       "50%        6.000000      1.000000      4.000000  \n",
       "75%        8.000000      1.000000     11.000000  \n",
       "max       11.000000      1.000000   3172.000000  "
      ]
     },
     "execution_count": 94,
     "metadata": {},
     "output_type": "execute_result"
    }
   ],
   "source": [
    "data.describe()"
   ]
  },
  {
   "cell_type": "code",
   "execution_count": null,
   "metadata": {},
   "outputs": [],
   "source": []
  }
 ],
 "metadata": {
  "kernelspec": {
   "display_name": "Python 3",
   "language": "python",
   "name": "python3"
  },
  "language_info": {
   "codemirror_mode": {
    "name": "ipython",
    "version": 3
   },
   "file_extension": ".py",
   "mimetype": "text/x-python",
   "name": "python",
   "nbconvert_exporter": "python",
   "pygments_lexer": "ipython3",
   "version": "3.7.6"
  }
 },
 "nbformat": 4,
 "nbformat_minor": 4
}

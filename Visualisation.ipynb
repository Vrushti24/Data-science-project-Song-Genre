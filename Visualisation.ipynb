{
 "cells": [
  {
   "cell_type": "markdown",
   "metadata": {},
   "source": [
    "# **STATISTICS FOR DATA SCIENCE ASSIGNMENT**"
   ]
  },
  {
   "cell_type": "markdown",
   "metadata": {},
   "source": [
    "#### **Objective**: _Cleaning, analysing, visualising, forecasting and presentation of data_"
   ]
  },
  {
   "cell_type": "code",
   "execution_count": 2,
   "metadata": {},
   "outputs": [],
   "source": [
    "# Importing packages\n",
    "import pandas as pd\n",
    "import numpy as np\n",
    "import matplotlib.pyplot as plt\n",
    "import seaborn as sns"
   ]
  },
  {
   "cell_type": "code",
   "execution_count": 66,
   "metadata": {},
   "outputs": [
    {
     "data": {
      "text/html": [
       "<div>\n",
       "<style scoped>\n",
       "    .dataframe tbody tr th:only-of-type {\n",
       "        vertical-align: middle;\n",
       "    }\n",
       "\n",
       "    .dataframe tbody tr th {\n",
       "        vertical-align: top;\n",
       "    }\n",
       "\n",
       "    .dataframe thead th {\n",
       "        text-align: right;\n",
       "    }\n",
       "</style>\n",
       "<table border=\"1\" class=\"dataframe\">\n",
       "  <thead>\n",
       "    <tr style=\"text-align: right;\">\n",
       "      <th></th>\n",
       "      <th>artists</th>\n",
       "      <th>acousticness</th>\n",
       "      <th>danceability</th>\n",
       "      <th>duration_ms</th>\n",
       "      <th>energy</th>\n",
       "      <th>instrumentalness</th>\n",
       "      <th>liveness</th>\n",
       "      <th>loudness</th>\n",
       "      <th>speechiness</th>\n",
       "      <th>tempo</th>\n",
       "      <th>valence</th>\n",
       "      <th>popularity</th>\n",
       "      <th>key</th>\n",
       "      <th>mode</th>\n",
       "      <th>count</th>\n",
       "      <th>genres</th>\n",
       "    </tr>\n",
       "  </thead>\n",
       "  <tbody>\n",
       "    <tr>\n",
       "      <th>0</th>\n",
       "      <td>\"Cats\" 1981 Original London Cast</td>\n",
       "      <td>0.575083</td>\n",
       "      <td>0.442750</td>\n",
       "      <td>247260.00000</td>\n",
       "      <td>0.386336</td>\n",
       "      <td>0.022717</td>\n",
       "      <td>0.287708</td>\n",
       "      <td>-14.205417</td>\n",
       "      <td>0.180675</td>\n",
       "      <td>115.983500</td>\n",
       "      <td>0.334433</td>\n",
       "      <td>38.000000</td>\n",
       "      <td>5</td>\n",
       "      <td>1</td>\n",
       "      <td>12</td>\n",
       "      <td>['show tunes']</td>\n",
       "    </tr>\n",
       "    <tr>\n",
       "      <th>1</th>\n",
       "      <td>\"Weird Al\" Yankovic</td>\n",
       "      <td>0.176934</td>\n",
       "      <td>0.664788</td>\n",
       "      <td>218165.25760</td>\n",
       "      <td>0.685136</td>\n",
       "      <td>0.000046</td>\n",
       "      <td>0.162139</td>\n",
       "      <td>-9.877909</td>\n",
       "      <td>0.082392</td>\n",
       "      <td>132.495091</td>\n",
       "      <td>0.754409</td>\n",
       "      <td>33.681818</td>\n",
       "      <td>9</td>\n",
       "      <td>1</td>\n",
       "      <td>132</td>\n",
       "      <td>['antiviral pop', 'comedy rock', 'comic', 'par...</td>\n",
       "    </tr>\n",
       "    <tr>\n",
       "      <th>2</th>\n",
       "      <td>$IMEON</td>\n",
       "      <td>0.242300</td>\n",
       "      <td>0.806667</td>\n",
       "      <td>66307.33333</td>\n",
       "      <td>0.469000</td>\n",
       "      <td>0.000001</td>\n",
       "      <td>0.204333</td>\n",
       "      <td>-12.168000</td>\n",
       "      <td>0.482667</td>\n",
       "      <td>106.020000</td>\n",
       "      <td>0.592000</td>\n",
       "      <td>62.666667</td>\n",
       "      <td>6</td>\n",
       "      <td>0</td>\n",
       "      <td>6</td>\n",
       "      <td>[]</td>\n",
       "    </tr>\n",
       "    <tr>\n",
       "      <th>3</th>\n",
       "      <td>$NOT</td>\n",
       "      <td>0.547000</td>\n",
       "      <td>0.750125</td>\n",
       "      <td>152929.50000</td>\n",
       "      <td>0.519750</td>\n",
       "      <td>0.043137</td>\n",
       "      <td>0.213975</td>\n",
       "      <td>-8.878500</td>\n",
       "      <td>0.276725</td>\n",
       "      <td>114.229125</td>\n",
       "      <td>0.319500</td>\n",
       "      <td>64.625000</td>\n",
       "      <td>6</td>\n",
       "      <td>1</td>\n",
       "      <td>8</td>\n",
       "      <td>['east coast hip hop', 'gangster rap', 'hardco...</td>\n",
       "    </tr>\n",
       "    <tr>\n",
       "      <th>4</th>\n",
       "      <td>$pyda</td>\n",
       "      <td>0.000122</td>\n",
       "      <td>0.514000</td>\n",
       "      <td>331240.00000</td>\n",
       "      <td>0.899000</td>\n",
       "      <td>0.079300</td>\n",
       "      <td>0.367000</td>\n",
       "      <td>-5.115000</td>\n",
       "      <td>0.060200</td>\n",
       "      <td>174.028000</td>\n",
       "      <td>0.266000</td>\n",
       "      <td>58.000000</td>\n",
       "      <td>7</td>\n",
       "      <td>1</td>\n",
       "      <td>1</td>\n",
       "      <td>[]</td>\n",
       "    </tr>\n",
       "  </tbody>\n",
       "</table>\n",
       "</div>"
      ],
      "text/plain": [
       "                            artists  acousticness  danceability   duration_ms  \\\n",
       "0  \"Cats\" 1981 Original London Cast      0.575083      0.442750  247260.00000   \n",
       "1               \"Weird Al\" Yankovic      0.176934      0.664788  218165.25760   \n",
       "2                            $IMEON      0.242300      0.806667   66307.33333   \n",
       "3                              $NOT      0.547000      0.750125  152929.50000   \n",
       "4                             $pyda      0.000122      0.514000  331240.00000   \n",
       "\n",
       "     energy  instrumentalness  liveness   loudness  speechiness       tempo  \\\n",
       "0  0.386336          0.022717  0.287708 -14.205417     0.180675  115.983500   \n",
       "1  0.685136          0.000046  0.162139  -9.877909     0.082392  132.495091   \n",
       "2  0.469000          0.000001  0.204333 -12.168000     0.482667  106.020000   \n",
       "3  0.519750          0.043137  0.213975  -8.878500     0.276725  114.229125   \n",
       "4  0.899000          0.079300  0.367000  -5.115000     0.060200  174.028000   \n",
       "\n",
       "    valence  popularity  key  mode  count  \\\n",
       "0  0.334433   38.000000    5     1     12   \n",
       "1  0.754409   33.681818    9     1    132   \n",
       "2  0.592000   62.666667    6     0      6   \n",
       "3  0.319500   64.625000    6     1      8   \n",
       "4  0.266000   58.000000    7     1      1   \n",
       "\n",
       "                                              genres  \n",
       "0                                     ['show tunes']  \n",
       "1  ['antiviral pop', 'comedy rock', 'comic', 'par...  \n",
       "2                                                 []  \n",
       "3  ['east coast hip hop', 'gangster rap', 'hardco...  \n",
       "4                                                 []  "
      ]
     },
     "execution_count": 66,
     "metadata": {},
     "output_type": "execute_result"
    }
   ],
   "source": [
    "data = pd.read_csv('./data_w_genres.csv')\n",
    "\n",
    "data.head()"
   ]
  },
  {
   "cell_type": "code",
   "execution_count": 8,
   "metadata": {},
   "outputs": [
    {
     "data": {
      "text/plain": [
       "22727"
      ]
     },
     "execution_count": 8,
     "metadata": {},
     "output_type": "execute_result"
    }
   ],
   "source": [
    "len(data)\n",
    "# Approx 22k songs data"
   ]
  },
  {
   "cell_type": "markdown",
   "metadata": {},
   "source": [
    "\n",
    "## Popularity Trends"
   ]
  },
  {
   "cell_type": "code",
   "execution_count": 58,
   "metadata": {},
   "outputs": [
    {
     "data": {
      "image/png": "[encoded data removed]",
      "text/plain": [
       "<Figure size 432x288 with 1 Axes>"
      ]
     },
     "metadata": {
      "needs_background": "light"
     },
     "output_type": "display_data"
    }
   ],
   "source": [
    "y = data['popularity']\n",
    "freq, bin_edge, plot = plt.hist(y, bins = 100)"
   ]
  },
  {
   "cell_type": "markdown",
   "metadata": {},
   "source": [
    "#### We can immediately see that popularity seems to be almost normally distributed but there is a spike at 0 which might be due to data not being available. Hence these rows should be dropped when analysing "
   ]
  },
  {
   "cell_type": "code",
   "execution_count": 65,
   "metadata": {},
   "outputs": [
    {
     "data": {
      "text/plain": [
       "2387"
      ]
     },
     "execution_count": 65,
     "metadata": {},
     "output_type": "execute_result"
    }
   ],
   "source": [
    "len(data[data['popularity']==0])"
   ]
  },
  {
   "cell_type": "code",
   "execution_count": 69,
   "metadata": {},
   "outputs": [],
   "source": [
    "data.drop(data[data['popularity']==0].index, inplace=True)"
   ]
  },
  {
   "cell_type": "code",
   "execution_count": 73,
   "metadata": {},
   "outputs": [
    {
     "data": {
      "image/png": "[encoded data removed]",
      "text/plain": [
       "<Figure size 432x288 with 1 Axes>"
      ]
     },
     "metadata": {
      "needs_background": "light"
     },
     "output_type": "display_data"
    }
   ],
   "source": [
    "y = data['popularity']\n",
    "freq, bin_edge, plot = plt.hist(y, bins = 50)"
   ]
  },
  {
   "cell_type": "code",
   "execution_count": 111,
   "metadata": {},
   "outputs": [
    {
     "data": {
      "image/png": "[encoded data removed]",
      "text/plain": [
       "<Figure size 1080x576 with 12 Axes>"
      ]
     },
     "metadata": {
      "needs_background": "light"
     },
     "output_type": "display_data"
    }
   ],
   "source": [
    "# similarly plotting the distribution of all continuous variables\n",
    "fig, axs = plt.subplots(4, 3, figsize=(15, 8))\n",
    "fig.tight_layout(pad=3.0)\n",
    "axs = axs.reshape(12,)\n",
    "i = 0\n",
    "colors = ['red', 'green', 'orange', 'blue']\n",
    "for feature in data.columns:\n",
    "    subplot = axs[i]\n",
    "    if(data[feature].dtype=='float64'):\n",
    "        subplot.set(xlabel=feature)\n",
    "        f, edge, plot = subplot.hist(data[feature], 50, color=colors[i%4])\n",
    "        i = i+1;"
   ]
  },
  {
   "cell_type": "markdown",
   "metadata": {},
   "source": [
    "#### We can observe that danceability, liveness, loudness, tempo, valence and popularity follow at least some type of distribution\n",
    "#### There are potential outliers in duration, instrumentalness, tempo and speechiness"
   ]
  },
  {
   "cell_type": "code",
   "execution_count": null,
   "metadata": {},
   "outputs": [],
   "source": []
  }
 ],
 "metadata": {
  "kernelspec": {
   "display_name": "Python 3",
   "language": "python",
   "name": "python3"
  },
  "language_info": {
   "codemirror_mode": {
    "name": "ipython",
    "version": 3
   },
   "file_extension": ".py",
   "mimetype": "text/x-python",
   "name": "python",
   "nbconvert_exporter": "python",
   "pygments_lexer": "ipython3",
   "version": "3.7.6"
  }
 },
 "nbformat": 4,
 "nbformat_minor": 4
}

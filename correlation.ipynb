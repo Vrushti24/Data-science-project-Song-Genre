{
 "cells": [
  {
   "cell_type": "markdown",
   "metadata": {},
   "source": [
    "# CORRELATION"
   ]
  },
  {
   "cell_type": "markdown",
   "metadata": {},
   "source": [
    "* We want to find out what are the variables that are positively and negatively correlated\n",
    "* Also find out the correlation coefficient of the variables."
   ]
  },
  {
   "cell_type": "code",
   "execution_count": 1,
   "metadata": {},
   "outputs": [],
   "source": [
    "import pandas as pd\n",
    "import sklearn \n",
    "import seaborn as sns \n",
    "import matplotlib.pyplot as plt \n",
    "from scipy.stats import norm \n",
    "from scipy.stats import pearsonr\n",
    "import numpy as np"
   ]
  },
  {
   "cell_type": "code",
   "execution_count": 2,
   "metadata": {},
   "outputs": [],
   "source": [
    "df=pd.read_csv(r'normalised_ds.csv')"
   ]
  },
  {
   "cell_type": "code",
   "execution_count": 3,
   "metadata": {},
   "outputs": [
    {
     "data": {
      "text/html": [
       "<div>\n",
       "<style scoped>\n",
       "    .dataframe tbody tr th:only-of-type {\n",
       "        vertical-align: middle;\n",
       "    }\n",
       "\n",
       "    .dataframe tbody tr th {\n",
       "        vertical-align: top;\n",
       "    }\n",
       "\n",
       "    .dataframe thead th {\n",
       "        text-align: right;\n",
       "    }\n",
       "</style>\n",
       "<table border=\"1\" class=\"dataframe\">\n",
       "  <thead>\n",
       "    <tr style=\"text-align: right;\">\n",
       "      <th></th>\n",
       "      <th>Unnamed: 0</th>\n",
       "      <th>artists</th>\n",
       "      <th>acousticness</th>\n",
       "      <th>danceability</th>\n",
       "      <th>duration_ms</th>\n",
       "      <th>energy</th>\n",
       "      <th>liveness</th>\n",
       "      <th>loudness</th>\n",
       "      <th>speechiness</th>\n",
       "      <th>tempo</th>\n",
       "      <th>valence</th>\n",
       "      <th>popularity</th>\n",
       "      <th>key</th>\n",
       "      <th>mode</th>\n",
       "      <th>count</th>\n",
       "      <th>genres</th>\n",
       "    </tr>\n",
       "  </thead>\n",
       "  <tbody>\n",
       "    <tr>\n",
       "      <th>0</th>\n",
       "      <td>0</td>\n",
       "      <td>\"Weird Al\" Yankovic</td>\n",
       "      <td>-0.736213</td>\n",
       "      <td>0.724221</td>\n",
       "      <td>-0.222791</td>\n",
       "      <td>0.618786</td>\n",
       "      <td>-0.216518</td>\n",
       "      <td>0.149036</td>\n",
       "      <td>0.878972</td>\n",
       "      <td>0.636937</td>\n",
       "      <td>0.983660</td>\n",
       "      <td>-0.388475</td>\n",
       "      <td>1.027699</td>\n",
       "      <td>0.532356</td>\n",
       "      <td>1.981348</td>\n",
       "      <td>['antiviral pop', 'comedy rock', 'comic', 'par...</td>\n",
       "    </tr>\n",
       "    <tr>\n",
       "      <th>1</th>\n",
       "      <td>1</td>\n",
       "      <td>$pyda</td>\n",
       "      <td>-1.247542</td>\n",
       "      <td>-0.172369</td>\n",
       "      <td>1.260429</td>\n",
       "      <td>1.469640</td>\n",
       "      <td>1.403118</td>\n",
       "      <td>0.963913</td>\n",
       "      <td>0.103621</td>\n",
       "      <td>2.422532</td>\n",
       "      <td>-1.027318</td>\n",
       "      <td>0.985799</td>\n",
       "      <td>0.453173</td>\n",
       "      <td>0.532356</td>\n",
       "      <td>-0.272360</td>\n",
       "      <td>['others']</td>\n",
       "    </tr>\n",
       "    <tr>\n",
       "      <th>2</th>\n",
       "      <td>2</td>\n",
       "      <td>'Be More Chill' Ensemble</td>\n",
       "      <td>0.961542</td>\n",
       "      <td>-0.273452</td>\n",
       "      <td>-0.928038</td>\n",
       "      <td>-0.221218</td>\n",
       "      <td>2.083038</td>\n",
       "      <td>0.593679</td>\n",
       "      <td>-0.462369</td>\n",
       "      <td>0.698799</td>\n",
       "      <td>-0.092667</td>\n",
       "      <td>0.646726</td>\n",
       "      <td>-0.695878</td>\n",
       "      <td>0.532356</td>\n",
       "      <td>-0.272360</td>\n",
       "      <td>['others']</td>\n",
       "    </tr>\n",
       "    <tr>\n",
       "      <th>3</th>\n",
       "      <td>3</td>\n",
       "      <td>'In The Heights' Original Broadway Company</td>\n",
       "      <td>0.593076</td>\n",
       "      <td>-0.011826</td>\n",
       "      <td>0.875680</td>\n",
       "      <td>-0.506546</td>\n",
       "      <td>0.033978</td>\n",
       "      <td>0.229794</td>\n",
       "      <td>3.241227</td>\n",
       "      <td>-0.117258</td>\n",
       "      <td>-0.443615</td>\n",
       "      <td>0.340895</td>\n",
       "      <td>0.453173</td>\n",
       "      <td>0.532356</td>\n",
       "      <td>0.002902</td>\n",
       "      <td>['broadway', 'show tunes']</td>\n",
       "    </tr>\n",
       "    <tr>\n",
       "      <th>4</th>\n",
       "      <td>4</td>\n",
       "      <td>'Little Women' Original Broadway Cast</td>\n",
       "      <td>1.360628</td>\n",
       "      <td>-1.177249</td>\n",
       "      <td>0.527442</td>\n",
       "      <td>-0.814013</td>\n",
       "      <td>-0.928373</td>\n",
       "      <td>0.478023</td>\n",
       "      <td>-0.762832</td>\n",
       "      <td>-1.188734</td>\n",
       "      <td>-1.430823</td>\n",
       "      <td>0.081604</td>\n",
       "      <td>-1.270404</td>\n",
       "      <td>0.532356</td>\n",
       "      <td>-0.255156</td>\n",
       "      <td>['others']</td>\n",
       "    </tr>\n",
       "  </tbody>\n",
       "</table>\n",
       "</div>"
      ],
      "text/plain": [
       "   Unnamed: 0                                     artists  acousticness  \\\n",
       "0           0                         \"Weird Al\" Yankovic     -0.736213   \n",
       "1           1                                       $pyda     -1.247542   \n",
       "2           2                    'Be More Chill' Ensemble      0.961542   \n",
       "3           3  'In The Heights' Original Broadway Company      0.593076   \n",
       "4           4       'Little Women' Original Broadway Cast      1.360628   \n",
       "\n",
       "   danceability  duration_ms    energy  liveness  loudness  speechiness  \\\n",
       "0      0.724221    -0.222791  0.618786 -0.216518  0.149036     0.878972   \n",
       "1     -0.172369     1.260429  1.469640  1.403118  0.963913     0.103621   \n",
       "2     -0.273452    -0.928038 -0.221218  2.083038  0.593679    -0.462369   \n",
       "3     -0.011826     0.875680 -0.506546  0.033978  0.229794     3.241227   \n",
       "4     -1.177249     0.527442 -0.814013 -0.928373  0.478023    -0.762832   \n",
       "\n",
       "      tempo   valence  popularity       key      mode     count  \\\n",
       "0  0.636937  0.983660   -0.388475  1.027699  0.532356  1.981348   \n",
       "1  2.422532 -1.027318    0.985799  0.453173  0.532356 -0.272360   \n",
       "2  0.698799 -0.092667    0.646726 -0.695878  0.532356 -0.272360   \n",
       "3 -0.117258 -0.443615    0.340895  0.453173  0.532356  0.002902   \n",
       "4 -1.188734 -1.430823    0.081604 -1.270404  0.532356 -0.255156   \n",
       "\n",
       "                                              genres  \n",
       "0  ['antiviral pop', 'comedy rock', 'comic', 'par...  \n",
       "1                                         ['others']  \n",
       "2                                         ['others']  \n",
       "3                         ['broadway', 'show tunes']  \n",
       "4                                         ['others']  "
      ]
     },
     "execution_count": 3,
     "metadata": {},
     "output_type": "execute_result"
    }
   ],
   "source": [
    "df.head()"
   ]
  },
  {
   "cell_type": "code",
   "execution_count": 4,
   "metadata": {},
   "outputs": [
    {
     "data": {
      "text/plain": [
       "<AxesSubplot:>"
      ]
     },
     "execution_count": 4,
     "metadata": {},
     "output_type": "execute_result"
    },
    {
     "data": {
      "image/png": "[encoded data removed]",
      "text/plain": [
       "<Figure size 648x576 with 2 Axes>"
      ]
     },
     "metadata": {
      "needs_background": "light"
     },
     "output_type": "display_data"
    }
   ],
   "source": [
    "#using heatmaps to find how the variables are correlated\n",
    "corrmat = df.corr() \n",
    "  \n",
    "f, ax = plt.subplots(figsize =(9, 8)) \n",
    "sns.heatmap(corrmat, ax = ax, cmap =\"Set1_r\", linewidths = 0.1) "
   ]
  },
  {
   "cell_type": "markdown",
   "metadata": {},
   "source": [
    "Inorder to get a clear idea of the correlation, we find the correlation coeffecient for all numeric variables with respect to each other"
   ]
  },
  {
   "cell_type": "code",
   "execution_count": 5,
   "metadata": {},
   "outputs": [],
   "source": [
    "df=df.iloc[:,1:16]"
   ]
  },
  {
   "cell_type": "code",
   "execution_count": 6,
   "metadata": {},
   "outputs": [
    {
     "data": {
      "text/html": [
       "<div>\n",
       "<style scoped>\n",
       "    .dataframe tbody tr th:only-of-type {\n",
       "        vertical-align: middle;\n",
       "    }\n",
       "\n",
       "    .dataframe tbody tr th {\n",
       "        vertical-align: top;\n",
       "    }\n",
       "\n",
       "    .dataframe thead th {\n",
       "        text-align: right;\n",
       "    }\n",
       "</style>\n",
       "<table border=\"1\" class=\"dataframe\">\n",
       "  <thead>\n",
       "    <tr style=\"text-align: right;\">\n",
       "      <th></th>\n",
       "      <th>acousticness</th>\n",
       "      <th>danceability</th>\n",
       "      <th>duration_ms</th>\n",
       "      <th>energy</th>\n",
       "      <th>liveness</th>\n",
       "      <th>loudness</th>\n",
       "      <th>speechiness</th>\n",
       "      <th>tempo</th>\n",
       "      <th>valence</th>\n",
       "      <th>popularity</th>\n",
       "      <th>key</th>\n",
       "      <th>mode</th>\n",
       "      <th>count</th>\n",
       "    </tr>\n",
       "  </thead>\n",
       "  <tbody>\n",
       "    <tr>\n",
       "      <th>acousticness</th>\n",
       "      <td>1.000000</td>\n",
       "      <td>-0.380469</td>\n",
       "      <td>-0.095578</td>\n",
       "      <td>-0.811390</td>\n",
       "      <td>-0.056874</td>\n",
       "      <td>-0.650581</td>\n",
       "      <td>-0.144080</td>\n",
       "      <td>-0.262889</td>\n",
       "      <td>-0.276280</td>\n",
       "      <td>-0.475568</td>\n",
       "      <td>-0.053011</td>\n",
       "      <td>0.097569</td>\n",
       "      <td>0.056674</td>\n",
       "    </tr>\n",
       "    <tr>\n",
       "      <th>danceability</th>\n",
       "      <td>-0.380469</td>\n",
       "      <td>1.000000</td>\n",
       "      <td>-0.089324</td>\n",
       "      <td>0.369373</td>\n",
       "      <td>-0.114878</td>\n",
       "      <td>0.471797</td>\n",
       "      <td>0.199694</td>\n",
       "      <td>0.080868</td>\n",
       "      <td>0.630854</td>\n",
       "      <td>0.213027</td>\n",
       "      <td>0.041167</td>\n",
       "      <td>-0.095601</td>\n",
       "      <td>-0.038296</td>\n",
       "    </tr>\n",
       "    <tr>\n",
       "      <th>duration_ms</th>\n",
       "      <td>-0.095578</td>\n",
       "      <td>-0.089324</td>\n",
       "      <td>1.000000</td>\n",
       "      <td>0.006693</td>\n",
       "      <td>-0.018405</td>\n",
       "      <td>-0.056016</td>\n",
       "      <td>-0.056762</td>\n",
       "      <td>-0.029464</td>\n",
       "      <td>-0.177551</td>\n",
       "      <td>0.018551</td>\n",
       "      <td>0.010043</td>\n",
       "      <td>-0.071449</td>\n",
       "      <td>0.002960</td>\n",
       "    </tr>\n",
       "    <tr>\n",
       "      <th>energy</th>\n",
       "      <td>-0.811390</td>\n",
       "      <td>0.369373</td>\n",
       "      <td>0.006693</td>\n",
       "      <td>1.000000</td>\n",
       "      <td>0.140572</td>\n",
       "      <td>0.797201</td>\n",
       "      <td>0.215997</td>\n",
       "      <td>0.318403</td>\n",
       "      <td>0.425969</td>\n",
       "      <td>0.361566</td>\n",
       "      <td>0.053627</td>\n",
       "      <td>-0.080312</td>\n",
       "      <td>-0.047626</td>\n",
       "    </tr>\n",
       "    <tr>\n",
       "      <th>liveness</th>\n",
       "      <td>-0.056874</td>\n",
       "      <td>-0.114878</td>\n",
       "      <td>-0.018405</td>\n",
       "      <td>0.140572</td>\n",
       "      <td>1.000000</td>\n",
       "      <td>0.078667</td>\n",
       "      <td>0.095844</td>\n",
       "      <td>0.007364</td>\n",
       "      <td>-0.008082</td>\n",
       "      <td>-0.062273</td>\n",
       "      <td>-0.001395</td>\n",
       "      <td>0.023206</td>\n",
       "      <td>0.026881</td>\n",
       "    </tr>\n",
       "    <tr>\n",
       "      <th>loudness</th>\n",
       "      <td>-0.650581</td>\n",
       "      <td>0.471797</td>\n",
       "      <td>-0.056016</td>\n",
       "      <td>0.797201</td>\n",
       "      <td>0.078667</td>\n",
       "      <td>1.000000</td>\n",
       "      <td>0.171771</td>\n",
       "      <td>0.295638</td>\n",
       "      <td>0.400225</td>\n",
       "      <td>0.312821</td>\n",
       "      <td>0.043632</td>\n",
       "      <td>-0.045144</td>\n",
       "      <td>-0.038096</td>\n",
       "    </tr>\n",
       "    <tr>\n",
       "      <th>speechiness</th>\n",
       "      <td>-0.144080</td>\n",
       "      <td>0.199694</td>\n",
       "      <td>-0.056762</td>\n",
       "      <td>0.215997</td>\n",
       "      <td>0.095844</td>\n",
       "      <td>0.171771</td>\n",
       "      <td>1.000000</td>\n",
       "      <td>0.091467</td>\n",
       "      <td>0.120214</td>\n",
       "      <td>0.033364</td>\n",
       "      <td>0.010459</td>\n",
       "      <td>-0.047502</td>\n",
       "      <td>0.040398</td>\n",
       "    </tr>\n",
       "    <tr>\n",
       "      <th>tempo</th>\n",
       "      <td>-0.262889</td>\n",
       "      <td>0.080868</td>\n",
       "      <td>-0.029464</td>\n",
       "      <td>0.318403</td>\n",
       "      <td>0.007364</td>\n",
       "      <td>0.295638</td>\n",
       "      <td>0.091467</td>\n",
       "      <td>1.000000</td>\n",
       "      <td>0.213800</td>\n",
       "      <td>0.088865</td>\n",
       "      <td>0.014440</td>\n",
       "      <td>-0.001443</td>\n",
       "      <td>-0.003538</td>\n",
       "    </tr>\n",
       "    <tr>\n",
       "      <th>valence</th>\n",
       "      <td>-0.276280</td>\n",
       "      <td>0.630854</td>\n",
       "      <td>-0.177551</td>\n",
       "      <td>0.425969</td>\n",
       "      <td>-0.008082</td>\n",
       "      <td>0.400225</td>\n",
       "      <td>0.120214</td>\n",
       "      <td>0.213800</td>\n",
       "      <td>1.000000</td>\n",
       "      <td>-0.072625</td>\n",
       "      <td>0.041807</td>\n",
       "      <td>-0.009222</td>\n",
       "      <td>0.005988</td>\n",
       "    </tr>\n",
       "    <tr>\n",
       "      <th>popularity</th>\n",
       "      <td>-0.475568</td>\n",
       "      <td>0.213027</td>\n",
       "      <td>0.018551</td>\n",
       "      <td>0.361566</td>\n",
       "      <td>-0.062273</td>\n",
       "      <td>0.312821</td>\n",
       "      <td>0.033364</td>\n",
       "      <td>0.088865</td>\n",
       "      <td>-0.072625</td>\n",
       "      <td>1.000000</td>\n",
       "      <td>0.023923</td>\n",
       "      <td>-0.118735</td>\n",
       "      <td>-0.129343</td>\n",
       "    </tr>\n",
       "    <tr>\n",
       "      <th>key</th>\n",
       "      <td>-0.053011</td>\n",
       "      <td>0.041167</td>\n",
       "      <td>0.010043</td>\n",
       "      <td>0.053627</td>\n",
       "      <td>-0.001395</td>\n",
       "      <td>0.043632</td>\n",
       "      <td>0.010459</td>\n",
       "      <td>0.014440</td>\n",
       "      <td>0.041807</td>\n",
       "      <td>0.023923</td>\n",
       "      <td>1.000000</td>\n",
       "      <td>-0.065772</td>\n",
       "      <td>-0.041758</td>\n",
       "    </tr>\n",
       "    <tr>\n",
       "      <th>mode</th>\n",
       "      <td>0.097569</td>\n",
       "      <td>-0.095601</td>\n",
       "      <td>-0.071449</td>\n",
       "      <td>-0.080312</td>\n",
       "      <td>0.023206</td>\n",
       "      <td>-0.045144</td>\n",
       "      <td>-0.047502</td>\n",
       "      <td>-0.001443</td>\n",
       "      <td>-0.009222</td>\n",
       "      <td>-0.118735</td>\n",
       "      <td>-0.065772</td>\n",
       "      <td>1.000000</td>\n",
       "      <td>0.081971</td>\n",
       "    </tr>\n",
       "    <tr>\n",
       "      <th>count</th>\n",
       "      <td>0.056674</td>\n",
       "      <td>-0.038296</td>\n",
       "      <td>0.002960</td>\n",
       "      <td>-0.047626</td>\n",
       "      <td>0.026881</td>\n",
       "      <td>-0.038096</td>\n",
       "      <td>0.040398</td>\n",
       "      <td>-0.003538</td>\n",
       "      <td>0.005988</td>\n",
       "      <td>-0.129343</td>\n",
       "      <td>-0.041758</td>\n",
       "      <td>0.081971</td>\n",
       "      <td>1.000000</td>\n",
       "    </tr>\n",
       "  </tbody>\n",
       "</table>\n",
       "</div>"
      ],
      "text/plain": [
       "              acousticness  danceability  duration_ms    energy  liveness  \\\n",
       "acousticness      1.000000     -0.380469    -0.095578 -0.811390 -0.056874   \n",
       "danceability     -0.380469      1.000000    -0.089324  0.369373 -0.114878   \n",
       "duration_ms      -0.095578     -0.089324     1.000000  0.006693 -0.018405   \n",
       "energy           -0.811390      0.369373     0.006693  1.000000  0.140572   \n",
       "liveness         -0.056874     -0.114878    -0.018405  0.140572  1.000000   \n",
       "loudness         -0.650581      0.471797    -0.056016  0.797201  0.078667   \n",
       "speechiness      -0.144080      0.199694    -0.056762  0.215997  0.095844   \n",
       "tempo            -0.262889      0.080868    -0.029464  0.318403  0.007364   \n",
       "valence          -0.276280      0.630854    -0.177551  0.425969 -0.008082   \n",
       "popularity       -0.475568      0.213027     0.018551  0.361566 -0.062273   \n",
       "key              -0.053011      0.041167     0.010043  0.053627 -0.001395   \n",
       "mode              0.097569     -0.095601    -0.071449 -0.080312  0.023206   \n",
       "count             0.056674     -0.038296     0.002960 -0.047626  0.026881   \n",
       "\n",
       "              loudness  speechiness     tempo   valence  popularity       key  \\\n",
       "acousticness -0.650581    -0.144080 -0.262889 -0.276280   -0.475568 -0.053011   \n",
       "danceability  0.471797     0.199694  0.080868  0.630854    0.213027  0.041167   \n",
       "duration_ms  -0.056016    -0.056762 -0.029464 -0.177551    0.018551  0.010043   \n",
       "energy        0.797201     0.215997  0.318403  0.425969    0.361566  0.053627   \n",
       "liveness      0.078667     0.095844  0.007364 -0.008082   -0.062273 -0.001395   \n",
       "loudness      1.000000     0.171771  0.295638  0.400225    0.312821  0.043632   \n",
       "speechiness   0.171771     1.000000  0.091467  0.120214    0.033364  0.010459   \n",
       "tempo         0.295638     0.091467  1.000000  0.213800    0.088865  0.014440   \n",
       "valence       0.400225     0.120214  0.213800  1.000000   -0.072625  0.041807   \n",
       "popularity    0.312821     0.033364  0.088865 -0.072625    1.000000  0.023923   \n",
       "key           0.043632     0.010459  0.014440  0.041807    0.023923  1.000000   \n",
       "mode         -0.045144    -0.047502 -0.001443 -0.009222   -0.118735 -0.065772   \n",
       "count        -0.038096     0.040398 -0.003538  0.005988   -0.129343 -0.041758   \n",
       "\n",
       "                  mode     count  \n",
       "acousticness  0.097569  0.056674  \n",
       "danceability -0.095601 -0.038296  \n",
       "duration_ms  -0.071449  0.002960  \n",
       "energy       -0.080312 -0.047626  \n",
       "liveness      0.023206  0.026881  \n",
       "loudness     -0.045144 -0.038096  \n",
       "speechiness  -0.047502  0.040398  \n",
       "tempo        -0.001443 -0.003538  \n",
       "valence      -0.009222  0.005988  \n",
       "popularity   -0.118735 -0.129343  \n",
       "key          -0.065772 -0.041758  \n",
       "mode          1.000000  0.081971  \n",
       "count         0.081971  1.000000  "
      ]
     },
     "execution_count": 6,
     "metadata": {},
     "output_type": "execute_result"
    }
   ],
   "source": [
    "df.corr()"
   ]
  },
  {
   "cell_type": "markdown",
   "metadata": {},
   "source": [
    "## plotting the corelation coefficients for the variables that have coefficient greater than 0.5 and lesser than -0.50"
   ]
  },
  {
   "cell_type": "code",
   "execution_count": 7,
   "metadata": {},
   "outputs": [
    {
     "data": {
      "image/png": "[encoded data removed]",
      "text/plain": [
       "<Figure size 432x288 with 1 Axes>"
      ]
     },
     "metadata": {
      "needs_background": "light"
     },
     "output_type": "display_data"
    },
    {
     "name": "stdout",
     "output_type": "stream",
     "text": [
      "correlation coefficeint along with its p-value is:  (-0.8113896738460279, 0.0)\n"
     ]
    }
   ],
   "source": [
    "data1=df['acousticness']\n",
    "data2=df['energy']\n",
    "plt.scatter(data2[5796:6208], data1[5796:6208])\n",
    "plt.show()\n",
    "print(\"correlation coefficeint along with its p-value is: \",pearsonr(data1, data2))"
   ]
  },
  {
   "cell_type": "code",
   "execution_count": 8,
   "metadata": {},
   "outputs": [
    {
     "data": {
      "image/png": "[encoded data removed]",
      "text/plain": [
       "<Figure size 432x288 with 1 Axes>"
      ]
     },
     "metadata": {
      "needs_background": "light"
     },
     "output_type": "display_data"
    },
    {
     "name": "stdout",
     "output_type": "stream",
     "text": [
      "correlation coefficeint along with its p-value is:  (-0.6505809654228958, 0.0)\n"
     ]
    },
    {
     "ename": "NameError",
     "evalue": "name 'stats' is not defined",
     "output_type": "error",
     "traceback": [
      "\u001b[1;31m---------------------------------------------------------------------------\u001b[0m",
      "\u001b[1;31mNameError\u001b[0m                                 Traceback (most recent call last)",
      "\u001b[1;32m<ipython-input-8-f7d56ea62f9d>\u001b[0m in \u001b[0;36m<module>\u001b[1;34m\u001b[0m\n\u001b[0;32m      4\u001b[0m \u001b[0mplt\u001b[0m\u001b[1;33m.\u001b[0m\u001b[0mshow\u001b[0m\u001b[1;33m(\u001b[0m\u001b[1;33m)\u001b[0m\u001b[1;33m\u001b[0m\u001b[1;33m\u001b[0m\u001b[0m\n\u001b[0;32m      5\u001b[0m \u001b[0mprint\u001b[0m\u001b[1;33m(\u001b[0m\u001b[1;34m\"correlation coefficeint along with its p-value is: \"\u001b[0m\u001b[1;33m,\u001b[0m\u001b[0mpearsonr\u001b[0m\u001b[1;33m(\u001b[0m\u001b[0mdata1\u001b[0m\u001b[1;33m,\u001b[0m \u001b[0mdata2\u001b[0m\u001b[1;33m)\u001b[0m\u001b[1;33m)\u001b[0m\u001b[1;33m\u001b[0m\u001b[1;33m\u001b[0m\u001b[0m\n\u001b[1;32m----> 6\u001b[1;33m \u001b[0mslope\u001b[0m\u001b[1;33m,\u001b[0m \u001b[0mintercept\u001b[0m\u001b[1;33m,\u001b[0m \u001b[0mr\u001b[0m\u001b[1;33m,\u001b[0m \u001b[0mp\u001b[0m\u001b[1;33m,\u001b[0m \u001b[0mstd_err\u001b[0m \u001b[1;33m=\u001b[0m \u001b[0mstats\u001b[0m\u001b[1;33m.\u001b[0m\u001b[0mlinregress\u001b[0m\u001b[1;33m(\u001b[0m\u001b[0mdata1\u001b[0m\u001b[1;33m,\u001b[0m \u001b[0mdata2\u001b[0m\u001b[1;33m)\u001b[0m\u001b[1;33m\u001b[0m\u001b[1;33m\u001b[0m\u001b[0m\n\u001b[0m\u001b[0;32m      7\u001b[0m \u001b[0mprint\u001b[0m\u001b[1;33m(\u001b[0m\u001b[1;34m\"slope is \"\u001b[0m\u001b[1;33m,\u001b[0m\u001b[0mslope\u001b[0m\u001b[1;33m)\u001b[0m\u001b[1;33m\u001b[0m\u001b[1;33m\u001b[0m\u001b[0m\n",
      "\u001b[1;31mNameError\u001b[0m: name 'stats' is not defined"
     ]
    }
   ],
   "source": [
    "data1=df['acousticness']\n",
    "data2=df['loudness']\n",
    "plt.scatter(data1[12894:13256], data2[12894:13256])\n",
    "plt.show()\n",
    "print(\"correlation coefficeint along with its p-value is: \",pearsonr(data1, data2))\n",
    "slope, intercept, r, p, std_err = stats.linregress(data1, data2)\n",
    "print(\"slope is \",slope)"
   ]
  },
  {
   "cell_type": "code",
   "execution_count": 9,
   "metadata": {},
   "outputs": [
    {
     "data": {
      "image/png": "[encoded data removed]",
      "text/plain": [
       "<Figure size 432x288 with 1 Axes>"
      ]
     },
     "metadata": {
      "needs_background": "light"
     },
     "output_type": "display_data"
    },
    {
     "name": "stdout",
     "output_type": "stream",
     "text": [
      "correlation coefficeint along with its p-value is:  (0.6308539195809072, 0.0)\n",
      "slope is  0.6308539195809072\n"
     ]
    }
   ],
   "source": [
    "data1=df['danceability']\n",
    "data2=df['valence']\n",
    "plt.scatter(data1[2894:3456], data2[2894:3456])\n",
    "plt.show()\n",
    "print(\"correlation coefficeint along with its p-value is: \",pearsonr(data1, data2))\n",
    "from scipy import stats\n",
    "slope, intercept, r, p, std_err = stats.linregress(data1, data2)\n",
    "print(\"slope is \",slope)"
   ]
  },
  {
   "cell_type": "code",
   "execution_count": 10,
   "metadata": {},
   "outputs": [
    {
     "data": {
      "image/png": "[encoded data removed]",
      "text/plain": [
       "<Figure size 432x288 with 1 Axes>"
      ]
     },
     "metadata": {
      "needs_background": "light"
     },
     "output_type": "display_data"
    },
    {
     "name": "stdout",
     "output_type": "stream",
     "text": [
      "correlation coefficeint along with its p-value is:  (0.7972006417469704, 0.0)\n",
      "slope is  0.7972006417469705\n"
     ]
    }
   ],
   "source": [
    "data1=df['energy']\n",
    "data2=df['loudness']\n",
    "plt.scatter(data1[11894:13356], data2[11894:13356])\n",
    "plt.show()\n",
    "print(\"correlation coefficeint along with its p-value is: \",pearsonr(data1, data2))\n",
    "slope, intercept, r, p, std_err = stats.linregress(data1, data2)\n",
    "print(\"slope is \",slope)"
   ]
  },
  {
   "cell_type": "markdown",
   "metadata": {},
   "source": [
    "# INFERENCES\n",
    "* Accousticness and loudness are negatively corellated. They have a moderately high correlation coefficient and hence can be used for linear regression models. As the loudness of a song increases, it has a lesser probablity of being acoustic\n",
    "* Accousticness and loudness have a negative corelation hence as loudness increases, the confidence level of the song having acoustic instruments decreases.\n",
    "* Danciblity and valence are positively correlated with a coeffecient of 0.63. This means that as the song gets more dancier, more positive and cheerfull is the song. We can safely conclude that slower songs are more prone to having sad lyrics\n",
    "* Loudness and energy are positively correlated with a coefficient of 0.80. This means that as the loudness of a song increses, its energy also increases\n"
   ]
  },
  {
   "cell_type": "markdown",
   "metadata": {},
   "source": [
    "We also noticed that for normalised data, the slope of the  linear regression line and the correlation value are the same."
   ]
  },
  {
   "cell_type": "code",
   "execution_count": null,
   "metadata": {},
   "outputs": [],
   "source": []
  }
 ],
 "metadata": {
  "kernelspec": {
   "display_name": "Python 3",
   "language": "python",
   "name": "python3"
  },
  "language_info": {
   "codemirror_mode": {
    "name": "ipython",
    "version": 3
   },
   "file_extension": ".py",
   "mimetype": "text/x-python",
   "name": "python",
   "nbconvert_exporter": "python",
   "pygments_lexer": "ipython3",
   "version": "3.7.9"
  }
 },
 "nbformat": 4,
 "nbformat_minor": 4
}

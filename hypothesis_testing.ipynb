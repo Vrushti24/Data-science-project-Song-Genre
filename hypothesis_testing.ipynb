{
 "cells": [
  {
   "cell_type": "markdown",
   "metadata": {},
   "source": [
    "# **STATISTICS FOR DATA SCIENCE ASSIGNMENT-4**\n"
   ]
  },
  {
   "cell_type": "markdown",
   "metadata": {},
   "source": [
    "## Objective: To do hypothesis testing"
   ]
  },
  {
   "cell_type": "markdown",
   "metadata": {},
   "source": [
    "For the purose of this project we have choosen 3 reserach hypothesis that we would like to test\n",
    "#### 1) If the average duration of a song is greater than 4 minutes (240000 milli seconds)\n",
    "#### 2) If the average tempo or the number of beats per minute of a song is  not 116\n",
    "#### 3) If more than 35% of the pop songs have a popularity greater that or equal to 55"
   ]
  },
  {
   "cell_type": "code",
   "execution_count": 1,
   "metadata": {},
   "outputs": [],
   "source": [
    "import pandas as pd\n",
    "import sklearn "
   ]
  },
  {
   "cell_type": "code",
   "execution_count": 2,
   "metadata": {},
   "outputs": [
    {
     "data": {
      "text/html": [
       "<div>\n",
       "<style scoped>\n",
       "    .dataframe tbody tr th:only-of-type {\n",
       "        vertical-align: middle;\n",
       "    }\n",
       "\n",
       "    .dataframe tbody tr th {\n",
       "        vertical-align: top;\n",
       "    }\n",
       "\n",
       "    .dataframe thead th {\n",
       "        text-align: right;\n",
       "    }\n",
       "</style>\n",
       "<table border=\"1\" class=\"dataframe\">\n",
       "  <thead>\n",
       "    <tr style=\"text-align: right;\">\n",
       "      <th></th>\n",
       "      <th>artists</th>\n",
       "      <th>acousticness</th>\n",
       "      <th>danceability</th>\n",
       "      <th>duration_ms</th>\n",
       "      <th>energy</th>\n",
       "      <th>liveness</th>\n",
       "      <th>loudness</th>\n",
       "      <th>speechiness</th>\n",
       "      <th>tempo</th>\n",
       "      <th>valence</th>\n",
       "      <th>popularity</th>\n",
       "      <th>key</th>\n",
       "      <th>mode</th>\n",
       "      <th>count</th>\n",
       "      <th>genres</th>\n",
       "    </tr>\n",
       "  </thead>\n",
       "  <tbody>\n",
       "    <tr>\n",
       "      <th>0</th>\n",
       "      <td>\"Weird Al\" Yankovic</td>\n",
       "      <td>0.176934</td>\n",
       "      <td>0.664788</td>\n",
       "      <td>218165.2576</td>\n",
       "      <td>0.685136</td>\n",
       "      <td>0.162139</td>\n",
       "      <td>-9.877909</td>\n",
       "      <td>0.082392</td>\n",
       "      <td>132.495091</td>\n",
       "      <td>0.754409</td>\n",
       "      <td>33.681818</td>\n",
       "      <td>9</td>\n",
       "      <td>1</td>\n",
       "      <td>132</td>\n",
       "      <td>['antiviral pop', 'comedy rock', 'comic', 'par...</td>\n",
       "    </tr>\n",
       "    <tr>\n",
       "      <th>1</th>\n",
       "      <td>$pyda</td>\n",
       "      <td>0.000122</td>\n",
       "      <td>0.514000</td>\n",
       "      <td>331240.0000</td>\n",
       "      <td>0.899000</td>\n",
       "      <td>0.367000</td>\n",
       "      <td>-5.115000</td>\n",
       "      <td>0.060200</td>\n",
       "      <td>174.028000</td>\n",
       "      <td>0.266000</td>\n",
       "      <td>58.000000</td>\n",
       "      <td>7</td>\n",
       "      <td>1</td>\n",
       "      <td>1</td>\n",
       "      <td>[others]</td>\n",
       "    </tr>\n",
       "    <tr>\n",
       "      <th>2</th>\n",
       "      <td>'Be More Chill' Ensemble</td>\n",
       "      <td>0.764000</td>\n",
       "      <td>0.497000</td>\n",
       "      <td>164400.0000</td>\n",
       "      <td>0.474000</td>\n",
       "      <td>0.453000</td>\n",
       "      <td>-7.279000</td>\n",
       "      <td>0.044000</td>\n",
       "      <td>133.934000</td>\n",
       "      <td>0.493000</td>\n",
       "      <td>52.000000</td>\n",
       "      <td>3</td>\n",
       "      <td>1</td>\n",
       "      <td>1</td>\n",
       "      <td>[others]</td>\n",
       "    </tr>\n",
       "    <tr>\n",
       "      <th>3</th>\n",
       "      <td>'In The Heights' Original Broadway Company</td>\n",
       "      <td>0.636588</td>\n",
       "      <td>0.541000</td>\n",
       "      <td>301908.2941</td>\n",
       "      <td>0.402282</td>\n",
       "      <td>0.193824</td>\n",
       "      <td>-9.405882</td>\n",
       "      <td>0.150006</td>\n",
       "      <td>114.952529</td>\n",
       "      <td>0.407765</td>\n",
       "      <td>46.588235</td>\n",
       "      <td>7</td>\n",
       "      <td>1</td>\n",
       "      <td>17</td>\n",
       "      <td>['broadway', 'show tunes']</td>\n",
       "    </tr>\n",
       "    <tr>\n",
       "      <th>4</th>\n",
       "      <td>'Little Women' Original Broadway Cast</td>\n",
       "      <td>0.902000</td>\n",
       "      <td>0.345000</td>\n",
       "      <td>275360.0000</td>\n",
       "      <td>0.325000</td>\n",
       "      <td>0.072100</td>\n",
       "      <td>-7.955000</td>\n",
       "      <td>0.035400</td>\n",
       "      <td>90.030000</td>\n",
       "      <td>0.168000</td>\n",
       "      <td>42.000000</td>\n",
       "      <td>1</td>\n",
       "      <td>1</td>\n",
       "      <td>2</td>\n",
       "      <td>[others]</td>\n",
       "    </tr>\n",
       "  </tbody>\n",
       "</table>\n",
       "</div>"
      ],
      "text/plain": [
       "                                      artists  acousticness  danceability  \\\n",
       "0                         \"Weird Al\" Yankovic      0.176934      0.664788   \n",
       "1                                       $pyda      0.000122      0.514000   \n",
       "2                    'Be More Chill' Ensemble      0.764000      0.497000   \n",
       "3  'In The Heights' Original Broadway Company      0.636588      0.541000   \n",
       "4       'Little Women' Original Broadway Cast      0.902000      0.345000   \n",
       "\n",
       "   duration_ms    energy  liveness  loudness  speechiness       tempo  \\\n",
       "0  218165.2576  0.685136  0.162139 -9.877909     0.082392  132.495091   \n",
       "1  331240.0000  0.899000  0.367000 -5.115000     0.060200  174.028000   \n",
       "2  164400.0000  0.474000  0.453000 -7.279000     0.044000  133.934000   \n",
       "3  301908.2941  0.402282  0.193824 -9.405882     0.150006  114.952529   \n",
       "4  275360.0000  0.325000  0.072100 -7.955000     0.035400   90.030000   \n",
       "\n",
       "    valence  popularity  key  mode  count  \\\n",
       "0  0.754409   33.681818    9     1    132   \n",
       "1  0.266000   58.000000    7     1      1   \n",
       "2  0.493000   52.000000    3     1      1   \n",
       "3  0.407765   46.588235    7     1     17   \n",
       "4  0.168000   42.000000    1     1      2   \n",
       "\n",
       "                                              genres  \n",
       "0  ['antiviral pop', 'comedy rock', 'comic', 'par...  \n",
       "1                                           [others]  \n",
       "2                                           [others]  \n",
       "3                         ['broadway', 'show tunes']  \n",
       "4                                           [others]  "
      ]
     },
     "execution_count": 2,
     "metadata": {},
     "output_type": "execute_result"
    }
   ],
   "source": [
    "df=pd.read_csv(r'final_dataset.csv')\n",
    "df.head()"
   ]
  },
  {
   "cell_type": "markdown",
   "metadata": {},
   "source": [
    "## Hypothesis 1"
   ]
  },
  {
   "cell_type": "markdown",
   "metadata": {},
   "source": [
    "The null hypothesis is that the average duration of songs is less than or equal to 240000 ms. We wish to find if the fact is true or not.\n"
   ]
  },
  {
   "cell_type": "markdown",
   "metadata": {},
   "source": [
    " **Null hypothesis**\n",
    "    $$H_{o}:\\mu <= 240000 $$\n",
    " **Alternative Hypothesis**\n",
    "  $$H_{1} :\\mu > 240000 $$\n",
    "  Here $\\mu$ is poulation mean."
   ]
  },
  {
   "cell_type": "code",
   "execution_count": 3,
   "metadata": {},
   "outputs": [
    {
     "data": {
      "text/plain": [
       "count     17137.000000\n",
       "mean     235154.663676\n",
       "std       76238.529939\n",
       "min       27867.000000\n",
       "25%      186553.750000\n",
       "50%      223393.705900\n",
       "75%      268637.200000\n",
       "max      600000.000000\n",
       "Name: duration_ms, dtype: float64"
      ]
     },
     "execution_count": 3,
     "metadata": {},
     "output_type": "execute_result"
    }
   ],
   "source": [
    "#finding the mean, standard deviation of duration of the songs\n",
    "df['duration_ms'].describe()"
   ]
  },
  {
   "cell_type": "markdown",
   "metadata": {},
   "source": [
    "We find that sample mean **X** is 235149.927895 and the standard deviation of the sample **s**  is 76238.233780\n"
   ]
  },
  {
   "cell_type": "markdown",
   "metadata": {},
   "source": [
    "Substituing in the formula to find the *z* value\n",
    " $$ z=\\frac{X-\\mu}{\\frac{s}{\\sqrt{n}}}  $$"
   ]
  },
  {
   "cell_type": "code",
   "execution_count": 4,
   "metadata": {},
   "outputs": [
    {
     "data": {
      "text/plain": [
       "-8.319875213452729"
      ]
     },
     "execution_count": 4,
     "metadata": {},
     "output_type": "execute_result"
    }
   ],
   "source": [
    "des_list=list(df['duration_ms'].describe())\n",
    "x=des_list[1]\n",
    "sd=des_list[2]\n",
    "mu=240000\n",
    "n=des_list[0]\n",
    "z_score=(x-mu)/(sd/n**(1/2))\n",
    "z_score"
   ]
  },
  {
   "cell_type": "markdown",
   "metadata": {},
   "source": [
    "* We choose the significance level $ \\alpha $ as 0.05. \n",
    "* This is a right tailed test, so we need to find the area of the graph to the right of the z_score which will be the p value\n",
    "$$  p value=1 $$\n",
    "### Since the p value is greater than the significance level $\\alpha$ we **Fail to reject the Null Hypothesis**\n"
   ]
  },
  {
   "cell_type": "markdown",
   "metadata": {},
   "source": [
    "## Hypothesis 2"
   ]
  },
  {
   "cell_type": "markdown",
   "metadata": {},
   "source": [
    "The Null Hypothesis is that the average tempo or the number of beats per minute of a song is 116"
   ]
  },
  {
   "cell_type": "markdown",
   "metadata": {},
   "source": [
    "**Null hypothesis** \n",
    "    $$H_{o}:\\mu = 116 $$\n",
    " **Alternative Hypothesis**\n",
    "  $$H_{1} \\mu \\neq 116 $$\n",
    "  Here $\\mu$ is poulation mean."
   ]
  },
  {
   "cell_type": "code",
   "execution_count": 5,
   "metadata": {},
   "outputs": [
    {
     "data": {
      "text/plain": [
       "count    17137.000000\n",
       "mean       117.672831\n",
       "std         23.265868\n",
       "min         12.198667\n",
       "25%        102.871000\n",
       "50%        117.283000\n",
       "75%        130.283471\n",
       "max        217.743000\n",
       "Name: tempo, dtype: float64"
      ]
     },
     "execution_count": 5,
     "metadata": {},
     "output_type": "execute_result"
    }
   ],
   "source": [
    "#finding the mean.standard deviation of tempo of the songs\n",
    "df['tempo'].describe()"
   ]
  },
  {
   "cell_type": "markdown",
   "metadata": {},
   "source": [
    "We find that sample mean **X** is 117.679942 and the standard deviation of the sample **s**  is  23.260666\n"
   ]
  },
  {
   "cell_type": "markdown",
   "metadata": {},
   "source": [
    "Substituing in the formula to find the *z* value\n",
    " $$ z=\\frac{X-\\mu}{\\frac{s}{\\sqrt{n}}}  $$"
   ]
  },
  {
   "cell_type": "code",
   "execution_count": 6,
   "metadata": {},
   "outputs": [
    {
     "data": {
      "text/plain": [
       "3.7857700739673112"
      ]
     },
     "execution_count": 6,
     "metadata": {},
     "output_type": "execute_result"
    }
   ],
   "source": [
    "des_list=list(df['tempo'].describe())\n",
    "x=des_list[1]\n",
    "sd=des_list[2]\n",
    "mu=117\n",
    "n=des_list[0]\n",
    "z_score=(x-mu)/(sd/n**(1/2))\n",
    "z_score"
   ]
  },
  {
   "cell_type": "markdown",
   "metadata": {},
   "source": [
    "* We choose the significance level $\\alpha$ as 0.05\n",
    "*The is a two sided test, $\\alpha/2$ is 0.025\n",
    "* We find the area of the curve to the right of the z_value and call it the p_value\n",
    "$$ pvalue= 0.00007 $$\n",
    "### Since the p value is less than 0.025, we **Reject the Null Hypothesis**"
   ]
  },
  {
   "cell_type": "markdown",
   "metadata": {},
   "source": [
    "## Hypothesis 3"
   ]
  },
  {
   "cell_type": "markdown",
   "metadata": {},
   "source": [
    "The null hypothesis is that the propotion of pop songs that have a popularity of 55 and above are less than or equal to 35% of the pop songs"
   ]
  },
  {
   "cell_type": "markdown",
   "metadata": {},
   "source": [
    "**Null hypothesis**\n",
    "    $$H_{o}:p <= 0.350 $$\n",
    " **Alternative Hypothesis**\n",
    "  $$H_{1} :p > 0.350 $$\n",
    "  Here p is poulation propotion."
   ]
  },
  {
   "cell_type": "code",
   "execution_count": 7,
   "metadata": {},
   "outputs": [
    {
     "data": {
      "text/html": [
       "<div>\n",
       "<style scoped>\n",
       "    .dataframe tbody tr th:only-of-type {\n",
       "        vertical-align: middle;\n",
       "    }\n",
       "\n",
       "    .dataframe tbody tr th {\n",
       "        vertical-align: top;\n",
       "    }\n",
       "\n",
       "    .dataframe thead th {\n",
       "        text-align: right;\n",
       "    }\n",
       "</style>\n",
       "<table border=\"1\" class=\"dataframe\">\n",
       "  <thead>\n",
       "    <tr style=\"text-align: right;\">\n",
       "      <th></th>\n",
       "      <th>popularity</th>\n",
       "      <th>genres</th>\n",
       "    </tr>\n",
       "  </thead>\n",
       "  <tbody>\n",
       "    <tr>\n",
       "      <th>0</th>\n",
       "      <td>33.681818</td>\n",
       "      <td>['antiviral pop', 'comedy rock', 'comic', 'par...</td>\n",
       "    </tr>\n",
       "    <tr>\n",
       "      <th>5</th>\n",
       "      <td>35.125000</td>\n",
       "      <td>['boston rock', 'dance rock', 'new romantic', ...</td>\n",
       "    </tr>\n",
       "    <tr>\n",
       "      <th>6</th>\n",
       "      <td>66.000000</td>\n",
       "      <td>['latin', 'puerto rican pop', 'reggaeton', 'tr...</td>\n",
       "    </tr>\n",
       "    <tr>\n",
       "      <th>9</th>\n",
       "      <td>74.666667</td>\n",
       "      <td>['k-pop', 'k-pop girl group']</td>\n",
       "    </tr>\n",
       "    <tr>\n",
       "      <th>10</th>\n",
       "      <td>45.794872</td>\n",
       "      <td>['boy band', 'dance pop', 'europop', 'pop']</td>\n",
       "    </tr>\n",
       "  </tbody>\n",
       "</table>\n",
       "</div>"
      ],
      "text/plain": [
       "    popularity                                             genres\n",
       "0    33.681818  ['antiviral pop', 'comedy rock', 'comic', 'par...\n",
       "5    35.125000  ['boston rock', 'dance rock', 'new romantic', ...\n",
       "6    66.000000  ['latin', 'puerto rican pop', 'reggaeton', 'tr...\n",
       "9    74.666667                      ['k-pop', 'k-pop girl group']\n",
       "10   45.794872        ['boy band', 'dance pop', 'europop', 'pop']"
      ]
     },
     "execution_count": 7,
     "metadata": {},
     "output_type": "execute_result"
    }
   ],
   "source": [
    "#get a list of all pop songs\n",
    "df2=df[['popularity','genres']]\n",
    "df2 = df2[df2['genres'].str.contains('pop')]\n",
    "df2.head()"
   ]
  },
  {
   "cell_type": "code",
   "execution_count": 8,
   "metadata": {},
   "outputs": [],
   "source": [
    "#find  the propotion of pop songs with popularity>=50 \n",
    "total=list(df2.count())[0]\n",
    "pop=0\n",
    "for p in df2['popularity']:\n",
    "    if float(p)>55 or float(p)==55:\n",
    "        pop+=1\n",
    "p_hat=pop/total"
   ]
  },
  {
   "cell_type": "code",
   "execution_count": 9,
   "metadata": {},
   "outputs": [
    {
     "data": {
      "text/plain": [
       "0.35491383325570564"
      ]
     },
     "execution_count": 9,
     "metadata": {},
     "output_type": "execute_result"
    }
   ],
   "source": [
    "p_hat"
   ]
  },
  {
   "cell_type": "markdown",
   "metadata": {},
   "source": [
    "We find that the sample propotion **p_hat** is 0.3547635686000466\n"
   ]
  },
  {
   "cell_type": "markdown",
   "metadata": {},
   "source": [
    "Substituing in the formula to find the *z* value\n",
    "$$ z=\\frac{phat-p}{\\sqrt{\\frac{p(1-p)}{n}}}  $$"
   ]
  },
  {
   "cell_type": "code",
   "execution_count": 10,
   "metadata": {},
   "outputs": [],
   "source": [
    "p=0.35\n",
    "z_score=(p_hat-p)/((p*(1-p))/n)**(1/2)"
   ]
  },
  {
   "cell_type": "code",
   "execution_count": 11,
   "metadata": {},
   "outputs": [
    {
     "data": {
      "text/plain": [
       "1.3486433431508802"
      ]
     },
     "execution_count": 11,
     "metadata": {},
     "output_type": "execute_result"
    }
   ],
   "source": [
    "z_score"
   ]
  },
  {
   "cell_type": "markdown",
   "metadata": {},
   "source": [
    "* We choose the significance level $ \\alpha $ as 0.05. \n",
    "* This is a right tailed test, so we need to find the area of the graph to the right of the z_score which will be the p value\n",
    "$$  p value=0.0962 $$\n",
    "### Since p value is greater than the significance level, we will **Fail to reject the Null Hypothesis**\n"
   ]
  },
  {
   "cell_type": "markdown",
   "metadata": {},
   "source": [
    "# Conclusion\n",
    "From the hypothesis testing, we can conclude that \n",
    "* **The average duration of songs is less than or equal to 4 minutes**\n",
    "* **The average beats per mintute or tempo of songs is not equal to 116**\n",
    "* **35% or less pop songs have a popularity score of 55 or greater**"
   ]
  },
  {
   "cell_type": "code",
   "execution_count": null,
   "metadata": {},
   "outputs": [],
   "source": []
  }
 ],
 "metadata": {
  "kernelspec": {
   "display_name": "Python 3",
   "language": "python",
   "name": "python3"
  },
  "language_info": {
   "codemirror_mode": {
    "name": "ipython",
    "version": 3
   },
   "file_extension": ".py",
   "mimetype": "text/x-python",
   "name": "python",
   "nbconvert_exporter": "python",
   "pygments_lexer": "ipython3",
   "version": "3.7.9"
  }
 },
 "nbformat": 4,
 "nbformat_minor": 4
}

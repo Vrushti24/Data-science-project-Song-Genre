{
 "cells": [
  {
   "cell_type": "code",
   "execution_count": 2,
   "metadata": {},
   "outputs": [],
   "source": [
    "#importing necessary libraries\n",
    "import sklearn as sk\n",
    "import pandas as pd\n",
    "import numpy as np\n",
    "import re"
   ]
  },
  {
   "cell_type": "code",
   "execution_count": 3,
   "metadata": {},
   "outputs": [],
   "source": [
    "#reading the cleaned dataset\n",
    "df=pd.read_csv(r'data_without_outliers.csv')"
   ]
  },
  {
   "cell_type": "code",
   "execution_count": 4,
   "metadata": {},
   "outputs": [
    {
     "data": {
      "text/html": [
       "<div>\n",
       "<style scoped>\n",
       "    .dataframe tbody tr th:only-of-type {\n",
       "        vertical-align: middle;\n",
       "    }\n",
       "\n",
       "    .dataframe tbody tr th {\n",
       "        vertical-align: top;\n",
       "    }\n",
       "\n",
       "    .dataframe thead th {\n",
       "        text-align: right;\n",
       "    }\n",
       "</style>\n",
       "<table border=\"1\" class=\"dataframe\">\n",
       "  <thead>\n",
       "    <tr style=\"text-align: right;\">\n",
       "      <th></th>\n",
       "      <th>artists</th>\n",
       "      <th>acousticness</th>\n",
       "      <th>danceability</th>\n",
       "      <th>duration_ms</th>\n",
       "      <th>energy</th>\n",
       "      <th>liveness</th>\n",
       "      <th>loudness</th>\n",
       "      <th>speechiness</th>\n",
       "      <th>tempo</th>\n",
       "      <th>valence</th>\n",
       "      <th>popularity</th>\n",
       "      <th>key</th>\n",
       "      <th>mode</th>\n",
       "      <th>count</th>\n",
       "      <th>genres</th>\n",
       "    </tr>\n",
       "  </thead>\n",
       "  <tbody>\n",
       "    <tr>\n",
       "      <th>0</th>\n",
       "      <td>\"Weird Al\" Yankovic</td>\n",
       "      <td>0.176934</td>\n",
       "      <td>0.664788</td>\n",
       "      <td>218165.2576</td>\n",
       "      <td>0.685136</td>\n",
       "      <td>0.162139</td>\n",
       "      <td>-9.877909</td>\n",
       "      <td>0.082392</td>\n",
       "      <td>132.495091</td>\n",
       "      <td>0.754409</td>\n",
       "      <td>33.681818</td>\n",
       "      <td>9</td>\n",
       "      <td>1</td>\n",
       "      <td>132</td>\n",
       "      <td>['antiviral pop', 'comedy rock', 'comic', 'par...</td>\n",
       "    </tr>\n",
       "    <tr>\n",
       "      <th>1</th>\n",
       "      <td>$pyda</td>\n",
       "      <td>0.000122</td>\n",
       "      <td>0.514000</td>\n",
       "      <td>331240.0000</td>\n",
       "      <td>0.899000</td>\n",
       "      <td>0.367000</td>\n",
       "      <td>-5.115000</td>\n",
       "      <td>0.060200</td>\n",
       "      <td>174.028000</td>\n",
       "      <td>0.266000</td>\n",
       "      <td>58.000000</td>\n",
       "      <td>7</td>\n",
       "      <td>1</td>\n",
       "      <td>1</td>\n",
       "      <td>[]</td>\n",
       "    </tr>\n",
       "    <tr>\n",
       "      <th>2</th>\n",
       "      <td>'Be More Chill' Ensemble</td>\n",
       "      <td>0.764000</td>\n",
       "      <td>0.497000</td>\n",
       "      <td>164400.0000</td>\n",
       "      <td>0.474000</td>\n",
       "      <td>0.453000</td>\n",
       "      <td>-7.279000</td>\n",
       "      <td>0.044000</td>\n",
       "      <td>133.934000</td>\n",
       "      <td>0.493000</td>\n",
       "      <td>52.000000</td>\n",
       "      <td>3</td>\n",
       "      <td>1</td>\n",
       "      <td>1</td>\n",
       "      <td>[]</td>\n",
       "    </tr>\n",
       "    <tr>\n",
       "      <th>3</th>\n",
       "      <td>'In The Heights' Original Broadway Company</td>\n",
       "      <td>0.636588</td>\n",
       "      <td>0.541000</td>\n",
       "      <td>301908.2941</td>\n",
       "      <td>0.402282</td>\n",
       "      <td>0.193824</td>\n",
       "      <td>-9.405882</td>\n",
       "      <td>0.150006</td>\n",
       "      <td>114.952529</td>\n",
       "      <td>0.407765</td>\n",
       "      <td>46.588235</td>\n",
       "      <td>7</td>\n",
       "      <td>1</td>\n",
       "      <td>17</td>\n",
       "      <td>['broadway', 'show tunes']</td>\n",
       "    </tr>\n",
       "    <tr>\n",
       "      <th>4</th>\n",
       "      <td>'Little Women' Original Broadway Cast</td>\n",
       "      <td>0.902000</td>\n",
       "      <td>0.345000</td>\n",
       "      <td>275360.0000</td>\n",
       "      <td>0.325000</td>\n",
       "      <td>0.072100</td>\n",
       "      <td>-7.955000</td>\n",
       "      <td>0.035400</td>\n",
       "      <td>90.030000</td>\n",
       "      <td>0.168000</td>\n",
       "      <td>42.000000</td>\n",
       "      <td>1</td>\n",
       "      <td>1</td>\n",
       "      <td>2</td>\n",
       "      <td>[]</td>\n",
       "    </tr>\n",
       "  </tbody>\n",
       "</table>\n",
       "</div>"
      ],
      "text/plain": [
       "                                      artists  acousticness  danceability  \\\n",
       "0                         \"Weird Al\" Yankovic      0.176934      0.664788   \n",
       "1                                       $pyda      0.000122      0.514000   \n",
       "2                    'Be More Chill' Ensemble      0.764000      0.497000   \n",
       "3  'In The Heights' Original Broadway Company      0.636588      0.541000   \n",
       "4       'Little Women' Original Broadway Cast      0.902000      0.345000   \n",
       "\n",
       "   duration_ms    energy  liveness  loudness  speechiness       tempo  \\\n",
       "0  218165.2576  0.685136  0.162139 -9.877909     0.082392  132.495091   \n",
       "1  331240.0000  0.899000  0.367000 -5.115000     0.060200  174.028000   \n",
       "2  164400.0000  0.474000  0.453000 -7.279000     0.044000  133.934000   \n",
       "3  301908.2941  0.402282  0.193824 -9.405882     0.150006  114.952529   \n",
       "4  275360.0000  0.325000  0.072100 -7.955000     0.035400   90.030000   \n",
       "\n",
       "    valence  popularity  key  mode  count  \\\n",
       "0  0.754409   33.681818    9     1    132   \n",
       "1  0.266000   58.000000    7     1      1   \n",
       "2  0.493000   52.000000    3     1      1   \n",
       "3  0.407765   46.588235    7     1     17   \n",
       "4  0.168000   42.000000    1     1      2   \n",
       "\n",
       "                                              genres  \n",
       "0  ['antiviral pop', 'comedy rock', 'comic', 'par...  \n",
       "1                                                 []  \n",
       "2                                                 []  \n",
       "3                         ['broadway', 'show tunes']  \n",
       "4                                                 []  "
      ]
     },
     "execution_count": 4,
     "metadata": {},
     "output_type": "execute_result"
    }
   ],
   "source": [
    "df.head()"
   ]
  },
  {
   "cell_type": "markdown",
   "metadata": {},
   "source": [
    "# Description of the columns"
   ]
  },
  {
   "cell_type": "markdown",
   "metadata": {},
   "source": [
    "1) acousticness- confidence measure whether a track is acoustic or not -independant\n",
    "2) danciblity- Danceability describes how suitable a track is for dancing based on a combination of musical elements including tempo, rhythm        stability, beat strength, and overall regularity- dependant on tempo,loudness,energy,key,mode\n",
    "3) duration_ms- duration of the song in miliseconds - independant\n",
    "4) energy-represents a perceptual measure of intensity and activity - dependant on the bpm and loudness \n",
    "5) livliness-Detects the presence of an audience in the recording -independant\n",
    "6) instrumentalness-Predicts whether a track contains no vocals -depends on speechiness\n",
    "7) loudness-Loudness values are averaged across the entire track and are useful for comparing relative loudness of tracks -independant\n",
    "8) speechiness-\tSpeechiness detects the presence of spoken words in a track-independant\n",
    "9) tempo-The overall estimated tempo of a track in beats per minute -dependant on energy,danciblity\n",
    "10) valance-describing the musical positiveness conveyed by a track.-independant\n",
    "11) poularity-the recent popularity of the song in the USA- dependant on all the factors\n",
    "12) key-The estimated overall key of the track. Integers map to pitches using standard-independant\n",
    "13) mode-tells weather a song is in the major/minor scale-2 categories variable\n",
    "14) count-The number of tracks from the original dataset, produced by the given artist (non necessay for any analysis)\n",
    "15) genre-the genre of the song depends on all the above factors -dependant on all factors"
   ]
  },
  {
   "cell_type": "markdown",
   "metadata": {},
   "source": [
    "Using visualization, it was found that instrumentalness had many missing values and since filling them will not add any value, it was removed\n",
    "Popularity also had many missing values to be replaced hence such rows were dropped"
   ]
  },
  {
   "cell_type": "markdown",
   "metadata": {},
   "source": [
    "It is noticed that there are no NaN values as such but they are represented by a '0'\n",
    "Hence we will replace 0 with NaN"
   ]
  },
  {
   "cell_type": "code",
   "execution_count": 4,
   "metadata": {
    "scrolled": true
   },
   "outputs": [],
   "source": [
    "df=df.replace('[]',np.NaN)\n",
    "df.loc[:,'danceability']=df.loc[:,'danceability'].replace(0.0,np.NaN)\n",
    "df.loc[:,'energy']=df.loc[:,'energy'].replace(0.0,np.NaN)\n",
    "df.loc[:,'tempo']=df.loc[:,'tempo'].replace(0,np.NaN)\n",
    "df.loc[:,'valence']=df.loc[:,'valence'].replace(0.0,np.NaN)\n",
    "df.loc[:,'acousticness']=df.loc[:,'acousticness'].replace(0.0,np.NaN)\n",
    "df.loc[:,'liveness']=df.loc[:,'liveness'].replace(0.0,np.NaN)"
   ]
  },
  {
   "cell_type": "code",
   "execution_count": 5,
   "metadata": {},
   "outputs": [
    {
     "data": {
      "text/plain": [
       "artists            0\n",
       "acousticness       8\n",
       "danceability      45\n",
       "duration_ms        0\n",
       "energy             2\n",
       "liveness           6\n",
       "loudness           0\n",
       "speechiness        0\n",
       "tempo             45\n",
       "valence           46\n",
       "popularity         0\n",
       "key                0\n",
       "mode               0\n",
       "count              0\n",
       "genres          3661\n",
       "dtype: int64"
      ]
     },
     "execution_count": 5,
     "metadata": {},
     "output_type": "execute_result"
    }
   ],
   "source": [
    "df.isnull().sum()"
   ]
  },
  {
   "cell_type": "markdown",
   "metadata": {},
   "source": [
    "# Filling of Null values"
   ]
  },
  {
   "cell_type": "markdown",
   "metadata": {},
   "source": [
    "1) There are only 8 outliers for accousticness and it is univariate therefore relaced using mean"
   ]
  },
  {
   "cell_type": "code",
   "execution_count": 6,
   "metadata": {},
   "outputs": [],
   "source": [
    "#acousticness\n",
    "df.loc[:,'acousticness']=df.loc[:,'acousticness'].replace(np.nan,df['acousticness'].mean())\n"
   ]
  },
  {
   "cell_type": "markdown",
   "metadata": {},
   "source": [
    "2) There are 6 nan values for liveness and it is independant of any other factors. The data is heavily right skewed hence replacement is using mode"
   ]
  },
  {
   "cell_type": "code",
   "execution_count": 7,
   "metadata": {},
   "outputs": [
    {
     "data": {
      "text/plain": [
       "array([0.103])"
      ]
     },
     "execution_count": 7,
     "metadata": {},
     "output_type": "execute_result"
    }
   ],
   "source": [
    "mode=df['liveness'].mode()\n",
    "mode.values"
   ]
  },
  {
   "cell_type": "code",
   "execution_count": 8,
   "metadata": {},
   "outputs": [],
   "source": [
    "#2)liveliness\n",
    "#it is observed that there is only 1 mode which is 0.103\n",
    "mode=0.103\n",
    "df.loc[:,'liveness']=df.loc[:,'liveness'].replace(np.nan,mode)"
   ]
  },
  {
   "cell_type": "markdown",
   "metadata": {},
   "source": [
    "3) The remaining missing numeric values are under danceability,energy,tempo,valence which are dependant variables.\n",
    "Hence we perform multivariate imputing"
   ]
  },
  {
   "cell_type": "markdown",
   "metadata": {},
   "source": [
    "Since the number of labeled data is high compared to the number of missing values, we will use a supervised training algorithm called MICE\n",
    "or Multiple Impution by Chained Equation.\n",
    "Further details can be found under: https://jhu.pure.elsevier.com/en/publications/multiple-imputation-by-chained-equations-what-is-it-and-how-does--5"
   ]
  },
  {
   "cell_type": "code",
   "execution_count": 9,
   "metadata": {},
   "outputs": [],
   "source": [
    "#getting columns that will be used to fill in the missing values\n",
    "cols=['acousticness',\n",
    "'danceability',\n",
    " 'energy',\n",
    " 'loudness',\n",
    " 'speechiness',\n",
    " 'tempo',\n",
    " 'valence',\n",
    " 'popularity',\n",
    " 'key',\n",
    " 'mode']\n"
   ]
  },
  {
   "cell_type": "code",
   "execution_count": 10,
   "metadata": {},
   "outputs": [
    {
     "data": {
      "text/plain": [
       "array([[1.76934091e-01, 6.64787879e-01, 6.85136364e-01, ...,\n",
       "        3.36818182e+01, 9.00000000e+00, 1.00000000e+00],\n",
       "       [1.22000000e-04, 5.14000000e-01, 8.99000000e-01, ...,\n",
       "        5.80000000e+01, 7.00000000e+00, 1.00000000e+00],\n",
       "       [7.64000000e-01, 4.97000000e-01, 4.74000000e-01, ...,\n",
       "        5.20000000e+01, 3.00000000e+00, 1.00000000e+00],\n",
       "       ...,\n",
       "       [8.64000000e-01, 6.28000000e-01, 1.72000000e-01, ...,\n",
       "        4.10000000e+01, 1.10000000e+01, 1.00000000e+00],\n",
       "       [9.79000000e-01, 2.41000000e-01, 6.28000000e-02, ...,\n",
       "        6.00000000e+01, 2.00000000e+00, 0.00000000e+00],\n",
       "       [6.12000000e-01, 3.74000000e-01, 8.20000000e-02, ...,\n",
       "        5.50000000e+01, 1.00000000e+00, 0.00000000e+00]])"
      ]
     },
     "execution_count": 10,
     "metadata": {},
     "output_type": "execute_result"
    }
   ],
   "source": [
    "#importing the python library for mice\n",
    "import sys\n",
    "from impyute.imputation.cs import mice\n",
    "sys.setrecursionlimit(100000) #Increase the recursion limit of the OS\n",
    "\n",
    "# start the KNN training\n",
    "imputed_training=mice(df[cols].values)\n",
    "imputed_training"
   ]
  },
  {
   "cell_type": "code",
   "execution_count": 11,
   "metadata": {},
   "outputs": [
    {
     "data": {
      "text/html": [
       "<div>\n",
       "<style scoped>\n",
       "    .dataframe tbody tr th:only-of-type {\n",
       "        vertical-align: middle;\n",
       "    }\n",
       "\n",
       "    .dataframe tbody tr th {\n",
       "        vertical-align: top;\n",
       "    }\n",
       "\n",
       "    .dataframe thead th {\n",
       "        text-align: right;\n",
       "    }\n",
       "</style>\n",
       "<table border=\"1\" class=\"dataframe\">\n",
       "  <thead>\n",
       "    <tr style=\"text-align: right;\">\n",
       "      <th></th>\n",
       "      <th>0</th>\n",
       "      <th>1</th>\n",
       "      <th>2</th>\n",
       "      <th>3</th>\n",
       "      <th>4</th>\n",
       "      <th>5</th>\n",
       "      <th>6</th>\n",
       "      <th>7</th>\n",
       "      <th>8</th>\n",
       "      <th>9</th>\n",
       "    </tr>\n",
       "  </thead>\n",
       "  <tbody>\n",
       "    <tr>\n",
       "      <th>0</th>\n",
       "      <td>0.176934</td>\n",
       "      <td>0.664788</td>\n",
       "      <td>0.685136</td>\n",
       "      <td>-9.877909</td>\n",
       "      <td>0.082392</td>\n",
       "      <td>132.495091</td>\n",
       "      <td>0.754409</td>\n",
       "      <td>33.681818</td>\n",
       "      <td>9.0</td>\n",
       "      <td>1.0</td>\n",
       "    </tr>\n",
       "    <tr>\n",
       "      <th>1</th>\n",
       "      <td>0.000122</td>\n",
       "      <td>0.514000</td>\n",
       "      <td>0.899000</td>\n",
       "      <td>-5.115000</td>\n",
       "      <td>0.060200</td>\n",
       "      <td>174.028000</td>\n",
       "      <td>0.266000</td>\n",
       "      <td>58.000000</td>\n",
       "      <td>7.0</td>\n",
       "      <td>1.0</td>\n",
       "    </tr>\n",
       "    <tr>\n",
       "      <th>2</th>\n",
       "      <td>0.764000</td>\n",
       "      <td>0.497000</td>\n",
       "      <td>0.474000</td>\n",
       "      <td>-7.279000</td>\n",
       "      <td>0.044000</td>\n",
       "      <td>133.934000</td>\n",
       "      <td>0.493000</td>\n",
       "      <td>52.000000</td>\n",
       "      <td>3.0</td>\n",
       "      <td>1.0</td>\n",
       "    </tr>\n",
       "    <tr>\n",
       "      <th>3</th>\n",
       "      <td>0.636588</td>\n",
       "      <td>0.541000</td>\n",
       "      <td>0.402282</td>\n",
       "      <td>-9.405882</td>\n",
       "      <td>0.150006</td>\n",
       "      <td>114.952529</td>\n",
       "      <td>0.407765</td>\n",
       "      <td>46.588235</td>\n",
       "      <td>7.0</td>\n",
       "      <td>1.0</td>\n",
       "    </tr>\n",
       "    <tr>\n",
       "      <th>4</th>\n",
       "      <td>0.902000</td>\n",
       "      <td>0.345000</td>\n",
       "      <td>0.325000</td>\n",
       "      <td>-7.955000</td>\n",
       "      <td>0.035400</td>\n",
       "      <td>90.030000</td>\n",
       "      <td>0.168000</td>\n",
       "      <td>42.000000</td>\n",
       "      <td>1.0</td>\n",
       "      <td>1.0</td>\n",
       "    </tr>\n",
       "  </tbody>\n",
       "</table>\n",
       "</div>"
      ],
      "text/plain": [
       "          0         1         2         3         4           5         6  \\\n",
       "0  0.176934  0.664788  0.685136 -9.877909  0.082392  132.495091  0.754409   \n",
       "1  0.000122  0.514000  0.899000 -5.115000  0.060200  174.028000  0.266000   \n",
       "2  0.764000  0.497000  0.474000 -7.279000  0.044000  133.934000  0.493000   \n",
       "3  0.636588  0.541000  0.402282 -9.405882  0.150006  114.952529  0.407765   \n",
       "4  0.902000  0.345000  0.325000 -7.955000  0.035400   90.030000  0.168000   \n",
       "\n",
       "           7    8    9  \n",
       "0  33.681818  9.0  1.0  \n",
       "1  58.000000  7.0  1.0  \n",
       "2  52.000000  3.0  1.0  \n",
       "3  46.588235  7.0  1.0  \n",
       "4  42.000000  1.0  1.0  "
      ]
     },
     "execution_count": 11,
     "metadata": {},
     "output_type": "execute_result"
    }
   ],
   "source": [
    "df2=pd.DataFrame(imputed_training)\n",
    "df2.head()"
   ]
  },
  {
   "cell_type": "code",
   "execution_count": 12,
   "metadata": {},
   "outputs": [],
   "source": [
    "#relacing the filled values back into the original dataset\n",
    "df['danceability']=df2[1]\n",
    "df['energy']=df2[2]\n",
    "df['tempo']=df2[5]\n",
    "df['valence']=df2[6]"
   ]
  },
  {
   "cell_type": "code",
   "execution_count": 13,
   "metadata": {},
   "outputs": [
    {
     "data": {
      "text/html": [
       "<div>\n",
       "<style scoped>\n",
       "    .dataframe tbody tr th:only-of-type {\n",
       "        vertical-align: middle;\n",
       "    }\n",
       "\n",
       "    .dataframe tbody tr th {\n",
       "        vertical-align: top;\n",
       "    }\n",
       "\n",
       "    .dataframe thead th {\n",
       "        text-align: right;\n",
       "    }\n",
       "</style>\n",
       "<table border=\"1\" class=\"dataframe\">\n",
       "  <thead>\n",
       "    <tr style=\"text-align: right;\">\n",
       "      <th></th>\n",
       "      <th>artists</th>\n",
       "      <th>acousticness</th>\n",
       "      <th>danceability</th>\n",
       "      <th>duration_ms</th>\n",
       "      <th>energy</th>\n",
       "      <th>liveness</th>\n",
       "      <th>loudness</th>\n",
       "      <th>speechiness</th>\n",
       "      <th>tempo</th>\n",
       "      <th>valence</th>\n",
       "      <th>popularity</th>\n",
       "      <th>key</th>\n",
       "      <th>mode</th>\n",
       "      <th>count</th>\n",
       "      <th>genres</th>\n",
       "    </tr>\n",
       "  </thead>\n",
       "  <tbody>\n",
       "    <tr>\n",
       "      <th>0</th>\n",
       "      <td>\"Weird Al\" Yankovic</td>\n",
       "      <td>0.176934</td>\n",
       "      <td>0.664788</td>\n",
       "      <td>218165.2576</td>\n",
       "      <td>0.685136</td>\n",
       "      <td>0.162139</td>\n",
       "      <td>-9.877909</td>\n",
       "      <td>0.082392</td>\n",
       "      <td>132.495091</td>\n",
       "      <td>0.754409</td>\n",
       "      <td>33.681818</td>\n",
       "      <td>9</td>\n",
       "      <td>1</td>\n",
       "      <td>132</td>\n",
       "      <td>['antiviral pop', 'comedy rock', 'comic', 'par...</td>\n",
       "    </tr>\n",
       "    <tr>\n",
       "      <th>1</th>\n",
       "      <td>$pyda</td>\n",
       "      <td>0.000122</td>\n",
       "      <td>0.514000</td>\n",
       "      <td>331240.0000</td>\n",
       "      <td>0.899000</td>\n",
       "      <td>0.367000</td>\n",
       "      <td>-5.115000</td>\n",
       "      <td>0.060200</td>\n",
       "      <td>174.028000</td>\n",
       "      <td>0.266000</td>\n",
       "      <td>58.000000</td>\n",
       "      <td>7</td>\n",
       "      <td>1</td>\n",
       "      <td>1</td>\n",
       "      <td>NaN</td>\n",
       "    </tr>\n",
       "    <tr>\n",
       "      <th>2</th>\n",
       "      <td>'Be More Chill' Ensemble</td>\n",
       "      <td>0.764000</td>\n",
       "      <td>0.497000</td>\n",
       "      <td>164400.0000</td>\n",
       "      <td>0.474000</td>\n",
       "      <td>0.453000</td>\n",
       "      <td>-7.279000</td>\n",
       "      <td>0.044000</td>\n",
       "      <td>133.934000</td>\n",
       "      <td>0.493000</td>\n",
       "      <td>52.000000</td>\n",
       "      <td>3</td>\n",
       "      <td>1</td>\n",
       "      <td>1</td>\n",
       "      <td>NaN</td>\n",
       "    </tr>\n",
       "    <tr>\n",
       "      <th>3</th>\n",
       "      <td>'In The Heights' Original Broadway Company</td>\n",
       "      <td>0.636588</td>\n",
       "      <td>0.541000</td>\n",
       "      <td>301908.2941</td>\n",
       "      <td>0.402282</td>\n",
       "      <td>0.193824</td>\n",
       "      <td>-9.405882</td>\n",
       "      <td>0.150006</td>\n",
       "      <td>114.952529</td>\n",
       "      <td>0.407765</td>\n",
       "      <td>46.588235</td>\n",
       "      <td>7</td>\n",
       "      <td>1</td>\n",
       "      <td>17</td>\n",
       "      <td>['broadway', 'show tunes']</td>\n",
       "    </tr>\n",
       "    <tr>\n",
       "      <th>4</th>\n",
       "      <td>'Little Women' Original Broadway Cast</td>\n",
       "      <td>0.902000</td>\n",
       "      <td>0.345000</td>\n",
       "      <td>275360.0000</td>\n",
       "      <td>0.325000</td>\n",
       "      <td>0.072100</td>\n",
       "      <td>-7.955000</td>\n",
       "      <td>0.035400</td>\n",
       "      <td>90.030000</td>\n",
       "      <td>0.168000</td>\n",
       "      <td>42.000000</td>\n",
       "      <td>1</td>\n",
       "      <td>1</td>\n",
       "      <td>2</td>\n",
       "      <td>NaN</td>\n",
       "    </tr>\n",
       "  </tbody>\n",
       "</table>\n",
       "</div>"
      ],
      "text/plain": [
       "                                      artists  acousticness  danceability  \\\n",
       "0                         \"Weird Al\" Yankovic      0.176934      0.664788   \n",
       "1                                       $pyda      0.000122      0.514000   \n",
       "2                    'Be More Chill' Ensemble      0.764000      0.497000   \n",
       "3  'In The Heights' Original Broadway Company      0.636588      0.541000   \n",
       "4       'Little Women' Original Broadway Cast      0.902000      0.345000   \n",
       "\n",
       "   duration_ms    energy  liveness  loudness  speechiness       tempo  \\\n",
       "0  218165.2576  0.685136  0.162139 -9.877909     0.082392  132.495091   \n",
       "1  331240.0000  0.899000  0.367000 -5.115000     0.060200  174.028000   \n",
       "2  164400.0000  0.474000  0.453000 -7.279000     0.044000  133.934000   \n",
       "3  301908.2941  0.402282  0.193824 -9.405882     0.150006  114.952529   \n",
       "4  275360.0000  0.325000  0.072100 -7.955000     0.035400   90.030000   \n",
       "\n",
       "    valence  popularity  key  mode  count  \\\n",
       "0  0.754409   33.681818    9     1    132   \n",
       "1  0.266000   58.000000    7     1      1   \n",
       "2  0.493000   52.000000    3     1      1   \n",
       "3  0.407765   46.588235    7     1     17   \n",
       "4  0.168000   42.000000    1     1      2   \n",
       "\n",
       "                                              genres  \n",
       "0  ['antiviral pop', 'comedy rock', 'comic', 'par...  \n",
       "1                                                NaN  \n",
       "2                                                NaN  \n",
       "3                         ['broadway', 'show tunes']  \n",
       "4                                                NaN  "
      ]
     },
     "execution_count": 13,
     "metadata": {},
     "output_type": "execute_result"
    }
   ],
   "source": [
    "df.head()"
   ]
  },
  {
   "cell_type": "code",
   "execution_count": 14,
   "metadata": {},
   "outputs": [
    {
     "data": {
      "text/plain": [
       "artists         Brown Noise for Babies\n",
       "acousticness                  0.431509\n",
       "danceability                  0.508955\n",
       "duration_ms                      73887\n",
       "energy                        2.01e-05\n",
       "liveness                         0.103\n",
       "loudness                       -15.776\n",
       "speechiness                          0\n",
       "tempo                          103.321\n",
       "valence                       0.180863\n",
       "popularity                          60\n",
       "key                                  5\n",
       "mode                                 1\n",
       "count                                1\n",
       "genres                 ['white noise']\n",
       "Name: 2247, dtype: object"
      ]
     },
     "execution_count": 14,
     "metadata": {},
     "output_type": "execute_result"
    }
   ],
   "source": [
    "#testing purposes\n",
    "df.iloc[2247]"
   ]
  },
  {
   "cell_type": "markdown",
   "metadata": {},
   "source": [
    "4) Genres is a column containing categorical values"
   ]
  },
  {
   "cell_type": "code",
   "execution_count": 15,
   "metadata": {},
   "outputs": [
    {
     "name": "stdout",
     "output_type": "stream",
     "text": [
      "8284\n"
     ]
    }
   ],
   "source": [
    "#to find the total number of unique genres\n",
    "genre=df['genres']\n",
    "genres_cnt=[]\n",
    "lst=[]\n",
    "for g in genre:\n",
    "    g=re.sub(r'[^\\w]', ' ', str(g))\n",
    "    lst=g.split()\n",
    "    genres_cnt.append(g)\n",
    "print(len((list(set(genres_cnt)))))"
   ]
  },
  {
   "cell_type": "markdown",
   "metadata": {},
   "source": [
    "There are 3661 missing values in genre and 8284 unique genres in the dataset. It is impossible to predict the missing values. Instead of dropping such rows, NaN will be replaced by \"others\" as this column will not be used for any statistical analysis"
   ]
  },
  {
   "cell_type": "code",
   "execution_count": 16,
   "metadata": {},
   "outputs": [],
   "source": [
    "df=df.fillna(\"[others]\")"
   ]
  },
  {
   "cell_type": "code",
   "execution_count": 17,
   "metadata": {},
   "outputs": [
    {
     "data": {
      "text/html": [
       "<div>\n",
       "<style scoped>\n",
       "    .dataframe tbody tr th:only-of-type {\n",
       "        vertical-align: middle;\n",
       "    }\n",
       "\n",
       "    .dataframe tbody tr th {\n",
       "        vertical-align: top;\n",
       "    }\n",
       "\n",
       "    .dataframe thead th {\n",
       "        text-align: right;\n",
       "    }\n",
       "</style>\n",
       "<table border=\"1\" class=\"dataframe\">\n",
       "  <thead>\n",
       "    <tr style=\"text-align: right;\">\n",
       "      <th></th>\n",
       "      <th>artists</th>\n",
       "      <th>acousticness</th>\n",
       "      <th>danceability</th>\n",
       "      <th>duration_ms</th>\n",
       "      <th>energy</th>\n",
       "      <th>liveness</th>\n",
       "      <th>loudness</th>\n",
       "      <th>speechiness</th>\n",
       "      <th>tempo</th>\n",
       "      <th>valence</th>\n",
       "      <th>popularity</th>\n",
       "      <th>key</th>\n",
       "      <th>mode</th>\n",
       "      <th>count</th>\n",
       "      <th>genres</th>\n",
       "    </tr>\n",
       "  </thead>\n",
       "  <tbody>\n",
       "    <tr>\n",
       "      <th>0</th>\n",
       "      <td>\"Weird Al\" Yankovic</td>\n",
       "      <td>0.176934</td>\n",
       "      <td>0.664788</td>\n",
       "      <td>218165.2576</td>\n",
       "      <td>0.685136</td>\n",
       "      <td>0.162139</td>\n",
       "      <td>-9.877909</td>\n",
       "      <td>0.082392</td>\n",
       "      <td>132.495091</td>\n",
       "      <td>0.754409</td>\n",
       "      <td>33.681818</td>\n",
       "      <td>9</td>\n",
       "      <td>1</td>\n",
       "      <td>132</td>\n",
       "      <td>['antiviral pop', 'comedy rock', 'comic', 'par...</td>\n",
       "    </tr>\n",
       "    <tr>\n",
       "      <th>1</th>\n",
       "      <td>$pyda</td>\n",
       "      <td>0.000122</td>\n",
       "      <td>0.514000</td>\n",
       "      <td>331240.0000</td>\n",
       "      <td>0.899000</td>\n",
       "      <td>0.367000</td>\n",
       "      <td>-5.115000</td>\n",
       "      <td>0.060200</td>\n",
       "      <td>174.028000</td>\n",
       "      <td>0.266000</td>\n",
       "      <td>58.000000</td>\n",
       "      <td>7</td>\n",
       "      <td>1</td>\n",
       "      <td>1</td>\n",
       "      <td>[others]</td>\n",
       "    </tr>\n",
       "    <tr>\n",
       "      <th>2</th>\n",
       "      <td>'Be More Chill' Ensemble</td>\n",
       "      <td>0.764000</td>\n",
       "      <td>0.497000</td>\n",
       "      <td>164400.0000</td>\n",
       "      <td>0.474000</td>\n",
       "      <td>0.453000</td>\n",
       "      <td>-7.279000</td>\n",
       "      <td>0.044000</td>\n",
       "      <td>133.934000</td>\n",
       "      <td>0.493000</td>\n",
       "      <td>52.000000</td>\n",
       "      <td>3</td>\n",
       "      <td>1</td>\n",
       "      <td>1</td>\n",
       "      <td>[others]</td>\n",
       "    </tr>\n",
       "    <tr>\n",
       "      <th>3</th>\n",
       "      <td>'In The Heights' Original Broadway Company</td>\n",
       "      <td>0.636588</td>\n",
       "      <td>0.541000</td>\n",
       "      <td>301908.2941</td>\n",
       "      <td>0.402282</td>\n",
       "      <td>0.193824</td>\n",
       "      <td>-9.405882</td>\n",
       "      <td>0.150006</td>\n",
       "      <td>114.952529</td>\n",
       "      <td>0.407765</td>\n",
       "      <td>46.588235</td>\n",
       "      <td>7</td>\n",
       "      <td>1</td>\n",
       "      <td>17</td>\n",
       "      <td>['broadway', 'show tunes']</td>\n",
       "    </tr>\n",
       "    <tr>\n",
       "      <th>4</th>\n",
       "      <td>'Little Women' Original Broadway Cast</td>\n",
       "      <td>0.902000</td>\n",
       "      <td>0.345000</td>\n",
       "      <td>275360.0000</td>\n",
       "      <td>0.325000</td>\n",
       "      <td>0.072100</td>\n",
       "      <td>-7.955000</td>\n",
       "      <td>0.035400</td>\n",
       "      <td>90.030000</td>\n",
       "      <td>0.168000</td>\n",
       "      <td>42.000000</td>\n",
       "      <td>1</td>\n",
       "      <td>1</td>\n",
       "      <td>2</td>\n",
       "      <td>[others]</td>\n",
       "    </tr>\n",
       "  </tbody>\n",
       "</table>\n",
       "</div>"
      ],
      "text/plain": [
       "                                      artists  acousticness  danceability  \\\n",
       "0                         \"Weird Al\" Yankovic      0.176934      0.664788   \n",
       "1                                       $pyda      0.000122      0.514000   \n",
       "2                    'Be More Chill' Ensemble      0.764000      0.497000   \n",
       "3  'In The Heights' Original Broadway Company      0.636588      0.541000   \n",
       "4       'Little Women' Original Broadway Cast      0.902000      0.345000   \n",
       "\n",
       "   duration_ms    energy  liveness  loudness  speechiness       tempo  \\\n",
       "0  218165.2576  0.685136  0.162139 -9.877909     0.082392  132.495091   \n",
       "1  331240.0000  0.899000  0.367000 -5.115000     0.060200  174.028000   \n",
       "2  164400.0000  0.474000  0.453000 -7.279000     0.044000  133.934000   \n",
       "3  301908.2941  0.402282  0.193824 -9.405882     0.150006  114.952529   \n",
       "4  275360.0000  0.325000  0.072100 -7.955000     0.035400   90.030000   \n",
       "\n",
       "    valence  popularity  key  mode  count  \\\n",
       "0  0.754409   33.681818    9     1    132   \n",
       "1  0.266000   58.000000    7     1      1   \n",
       "2  0.493000   52.000000    3     1      1   \n",
       "3  0.407765   46.588235    7     1     17   \n",
       "4  0.168000   42.000000    1     1      2   \n",
       "\n",
       "                                              genres  \n",
       "0  ['antiviral pop', 'comedy rock', 'comic', 'par...  \n",
       "1                                           [others]  \n",
       "2                                           [others]  \n",
       "3                         ['broadway', 'show tunes']  \n",
       "4                                           [others]  "
      ]
     },
     "execution_count": 17,
     "metadata": {},
     "output_type": "execute_result"
    }
   ],
   "source": [
    "df.head()"
   ]
  },
  {
   "cell_type": "code",
   "execution_count": 18,
   "metadata": {},
   "outputs": [
    {
     "data": {
      "text/plain": [
       "artists         0\n",
       "acousticness    0\n",
       "danceability    0\n",
       "duration_ms     0\n",
       "energy          0\n",
       "liveness        0\n",
       "loudness        0\n",
       "speechiness     0\n",
       "tempo           0\n",
       "valence         0\n",
       "popularity      0\n",
       "key             0\n",
       "mode            0\n",
       "count           0\n",
       "genres          0\n",
       "dtype: int64"
      ]
     },
     "execution_count": 18,
     "metadata": {},
     "output_type": "execute_result"
    }
   ],
   "source": [
    "df.isnull().sum()"
   ]
  },
  {
   "cell_type": "markdown",
   "metadata": {},
   "source": [
    "All missing values have been filled"
   ]
  },
  {
   "cell_type": "code",
   "execution_count": null,
   "metadata": {},
   "outputs": [],
   "source": []
  }
 ],
 "metadata": {
  "kernelspec": {
   "display_name": "Python 3",
   "language": "python",
   "name": "python3"
  },
  "language_info": {
   "codemirror_mode": {
    "name": "ipython",
    "version": 3
   },
   "file_extension": ".py",
   "mimetype": "text/x-python",
   "name": "python",
   "nbconvert_exporter": "python",
   "pygments_lexer": "ipython3",
   "version": "3.7.9"
  }
 },
 "nbformat": 4,
 "nbformat_minor": 4
}
